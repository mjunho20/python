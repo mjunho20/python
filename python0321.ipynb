{
  "nbformat": 4,
  "nbformat_minor": 0,
  "metadata": {
    "colab": {
      "provenance": [],
      "collapsed_sections": [
        "8Z7sc8i-ielb",
        "UuhuBESakwZZ",
        "27Io5JzOnjDo",
        "QHV0WLbXpBQp",
        "nxHnXCEIvy5Z"
      ],
      "authorship_tag": "ABX9TyPMAp+8Hb3C8Nj4Lz5nvpjD",
      "include_colab_link": true
    },
    "kernelspec": {
      "name": "python3",
      "display_name": "Python 3"
    },
    "language_info": {
      "name": "python"
    }
  },
  "cells": [
    {
      "cell_type": "markdown",
      "metadata": {
        "id": "view-in-github",
        "colab_type": "text"
      },
      "source": [
        "<a href=\"https://colab.research.google.com/github/mjunho20/python/blob/main/python0321.ipynb\" target=\"_parent\"><img src=\"https://colab.research.google.com/assets/colab-badge.svg\" alt=\"Open In Colab\"/></a>"
      ]
    },
    {
      "cell_type": "markdown",
      "source": [
        "# 2.print() 서식 출력\n"
      ],
      "metadata": {
        "id": "8Z7sc8i-ielb"
      }
    },
    {
      "cell_type": "code",
      "source": [
        "print(\"%d\" % 123)   #일반적인 123 출력\n",
        "print(\"%5d\" % 123)   #5자리 로 123을 출력 하기때문에 앞에 빈칸 2개가 생김\n",
        "print(\"%05d\" % 123)   #5자리로 출력하되 빈칸은 0으로 채움\n",
        "\n",
        "print(\"%f\" % 123.45)       #소수의 일반적인 출력\n",
        "print(\"%7.1f\" % 123.45)   #7자리로 출력하고 소수점 1번째까지만 출력 : 앞에 빈칸이 생김\n",
        "print(\"%7.3f\" % 123.45)    # 7자리로 출력하고 소수점 세번째까지\n",
        "\n",
        "print(\"%s\" % \"대한민국\")        #서식 출력 \n",
        "print(\"%8s\" % \"대한민국\" )     #8자리 서식 출력: 앞에 빈칸 생김"
      ],
      "metadata": {
        "colab": {
          "base_uri": "https://localhost:8080/"
        },
        "id": "4d57Vk65inLi",
        "outputId": "d04f54ac-ea18-4246-ebab-c9a44b95cf85"
      },
      "execution_count": null,
      "outputs": [
        {
          "output_type": "stream",
          "name": "stdout",
          "text": [
            "123\n",
            "  123\n",
            "00123\n",
            "123.450000\n",
            "  123.5\n",
            "123.450\n",
            "대한민국\n",
            "    대한민국\n"
          ]
        }
      ]
    },
    {
      "cell_type": "markdown",
      "source": [
        "#Format 함수: 순서 지정 가능"
      ],
      "metadata": {
        "id": "UuhuBESakwZZ"
      }
    },
    {
      "cell_type": "code",
      "source": [
        "print(\"{0:d} {1:5d} {2:05d}\".format(123,456,789))        # 순서대로 0번째 1번쨰 2번째 출력하는 방식 : 순서와 출력방식 입력"
      ],
      "metadata": {
        "colab": {
          "base_uri": "https://localhost:8080/"
        },
        "id": "YoCwa8ckkEW7",
        "outputId": "75a2f297-a7cb-4893-91d6-234469fdac4a"
      },
      "execution_count": null,
      "outputs": [
        {
          "output_type": "stream",
          "name": "stdout",
          "text": [
            "123   456 00789\n"
          ]
        }
      ]
    },
    {
      "cell_type": "code",
      "source": [
        "print(\"{2:d} {1:5d} {0:05d}\".format(123,456,789))         #  2,1,0 순이라 순서가 바뀌어서 출력됨"
      ],
      "metadata": {
        "colab": {
          "base_uri": "https://localhost:8080/"
        },
        "id": "252NEorCkWvS",
        "outputId": "f268afc4-f4fb-4d2f-b7bc-6870fd8cb952"
      },
      "execution_count": null,
      "outputs": [
        {
          "output_type": "stream",
          "name": "stdout",
          "text": [
            "789   456 00123\n"
          ]
        }
      ]
    },
    {
      "cell_type": "markdown",
      "source": [
        "# 서식 출력"
      ],
      "metadata": {
        "id": "7i5ZindSlJJR"
      }
    },
    {
      "cell_type": "code",
      "source": [
        "print(\"\\n줄바꿈\\n연습입니다.\")    # 줄바꿈"
      ],
      "metadata": {
        "colab": {
          "base_uri": "https://localhost:8080/"
        },
        "id": "feaEc0swlHu5",
        "outputId": "2e89a938-15f8-430a-bf9d-5d98548d2534"
      },
      "execution_count": null,
      "outputs": [
        {
          "output_type": "stream",
          "name": "stdout",
          "text": [
            "\n",
            "줄바꿈\n",
            "연습입니다.\n"
          ]
        }
      ]
    },
    {
      "cell_type": "code",
      "source": [
        "print(\"\\t탭키\\t연습\")     # 띄어쓰기"
      ],
      "metadata": {
        "colab": {
          "base_uri": "https://localhost:8080/"
        },
        "id": "hPBRPm46lTsY",
        "outputId": "625af751-7ffe-4af4-b94a-d0c55938ede2"
      },
      "execution_count": null,
      "outputs": [
        {
          "output_type": "stream",
          "name": "stdout",
          "text": [
            "\t탭키\t연습\n"
          ]
        }
      ]
    },
    {
      "cell_type": "code",
      "source": [
        "print(\"글자가 \\\"강조\\\"되는 효과1\")\n",
        "print(\"글자가 \\\"강조\\\"되는 효과2\")     #\\\"강조하고싶은문자\\\"\n",
        "print(\"역슬레시 3개 출력 \\\\\\\\\\\\\")         #역슬래시\\를 3개 출력하기 위해선 6개가 필요함\n",
        "print(r\"\\n \\t \\\" \\\\ \\' 를 그대로 출력\")      #역슬래시를 그대로 출력하고 싶을때는 앞에 r이 들어감, 위처럼 여러개 쓸 필요없음"
      ],
      "metadata": {
        "colab": {
          "base_uri": "https://localhost:8080/"
        },
        "id": "cH0bkhamliYh",
        "outputId": "d86a75c2-3b5e-4738-e834-c30f7323d0c5"
      },
      "execution_count": null,
      "outputs": [
        {
          "output_type": "stream",
          "name": "stdout",
          "text": [
            "글자가 \"강조\"되는 효과1\n",
            "글자가 \"강조\"되는 효과2\n",
            "역슬레시 3개 출력 \\\\\\\n",
            "\\n \\t \\\" \\\\ \\' 를 그대로 출력\n"
          ]
        }
      ]
    },
    {
      "cell_type": "markdown",
      "source": [
        "# 관계 연산자\n",
        "* and = 둘다참이여야 참\n",
        "* or = 둘중 하나만 참이어도 참\n",
        "* not = 참이면 거짓,거짓이면 참"
      ],
      "metadata": {
        "id": "27Io5JzOnjDo"
      }
    },
    {
      "cell_type": "code",
      "source": [
        "a,b = 10,20\n",
        "print(a==b, a!=b, a>b, a<b, a>=b, a<=b)       # !=는 같지 않다를 의미함"
      ],
      "metadata": {
        "colab": {
          "base_uri": "https://localhost:8080/"
        },
        "id": "w1EKeNGZnmDx",
        "outputId": "4eb48e64-92e2-4aa0-8218-944c27014c5a"
      },
      "execution_count": null,
      "outputs": [
        {
          "output_type": "stream",
          "name": "stdout",
          "text": [
            "False True False True False True\n"
          ]
        }
      ]
    },
    {
      "cell_type": "markdown",
      "source": [
        "# 논리 연산자"
      ],
      "metadata": {
        "id": "QHV0WLbXpBQp"
      }
    },
    {
      "cell_type": "code",
      "source": [
        "a = 99\n",
        "print((a>100) and (a<200))     #둘중 하나가 거짓이기때문에 false\n",
        "print((a>100) or (a<200))      #둘중 하나가 참이기때문에 true\n",
        "print(not(a==100))            # 괄호안이 거짓이기때문에 true"
      ],
      "metadata": {
        "colab": {
          "base_uri": "https://localhost:8080/"
        },
        "id": "2aQz3D79pD0r",
        "outputId": "5fb97664-88d3-40a5-f6af-9d15d61a1948"
      },
      "execution_count": null,
      "outputs": [
        {
          "output_type": "stream",
          "name": "stdout",
          "text": [
            "False\n",
            "True\n",
            "True\n"
          ]
        }
      ]
    },
    {
      "cell_type": "code",
      "source": [
        "if(123):                           #if()뒤에 : 그리고 엔터로 줄바꾸기\n",
        "  print(\"참이면 보입니다.\")\n",
        "if(0):\n",
        "  print(\"거짓이면 보입니다.\")"
      ],
      "metadata": {
        "colab": {
          "base_uri": "https://localhost:8080/"
        },
        "id": "QjpzLYFupmPY",
        "outputId": "9f5622bb-1207-4020-eaa4-ecb94a81ca84"
      },
      "execution_count": null,
      "outputs": [
        {
          "output_type": "stream",
          "name": "stdout",
          "text": [
            "참이면 보입니다.\n"
          ]
        }
      ]
    },
    {
      "cell_type": "markdown",
      "source": [
        "### 퀴즈2 숫자 입력을 받아 동전으로 바꿔주는 프로그램\n",
        "###(500원, 100원, 50,원 10원) 1원 단위는 거스름 돈으로 출력\n"
      ],
      "metadata": {
        "id": "nxHnXCEIvy5Z"
      }
    },
    {
      "cell_type": "code",
      "source": [
        "# 변수 bill, c500 , c100, c50, c10\n",
        "bill,c500,c100,c50,c10=0,0,0,0,0               # 변수를 0으로 초기화\n",
        "bill = int(input(\"금액을 입력해주십시오.\"))      \n",
        "c500 = bill//500     #몫\n",
        "bill %=500    #bill = bill%500\n",
        "c100 = bill//100\n",
        "bill %=100\n",
        "c50 = bill//50\n",
        "bill %=50\n",
        "c10 = bill//10\n",
        "bill %=10\n",
        "print(\"500원짜리 : %d개\" % c500)\n",
        "print(\"100원짜리 : %d개\" % c100)\n",
        "print(\"50원짜리 : %d개\" % c50)\n",
        "print(\"10원짜리 : %d개\" % c10)\n",
        "print(\"잔돈 %d원\" %bill)\n",
        "\n",
        "\n"
      ],
      "metadata": {
        "colab": {
          "base_uri": "https://localhost:8080/"
        },
        "id": "G-ihqG-cwPkP",
        "outputId": "13971f19-93c0-49e7-f718-1ad4e534ba98"
      },
      "execution_count": null,
      "outputs": [
        {
          "output_type": "stream",
          "name": "stdout",
          "text": [
            "금액을 입력해주십시오.1818\n",
            "500원짜리 : 3개\n",
            "100원짜리 : 3개\n",
            "50원짜리 : 0개\n",
            "10원짜리 : 1개\n",
            "잔돈 8원\n"
          ]
        }
      ]
    },
    {
      "cell_type": "markdown",
      "source": [
        "# 조건문"
      ],
      "metadata": {
        "id": "rkIKh3OB0TdI"
      }
    },
    {
      "cell_type": "code",
      "source": [
        "a=200\n",
        "  if(a<100):\n",
        "    print(\"100보다 작다.\")\n",
        "  else :\n",
        "    print(\"100보다 크다.\")\n",
        "  print(\"프로그램 종료\")"
      ],
      "metadata": {
        "id": "KP_FzHcI0Xxe"
      },
      "execution_count": null,
      "outputs": []
    },
    {
      "cell_type": "code",
      "source": [
        "a=int(intput(\"정수를 입력하세요\")\n",
        "if(a % 2 == 0):\n",
        "   print(\"짝수\")\n",
        "else\n",
        "  print(\"홀수\")\n",
        " "
      ],
      "metadata": {
        "id": "BUcB3Gqf2VO4"
      },
      "execution_count": null,
      "outputs": []
    },
    {
      "cell_type": "code",
      "source": [
        "a = 40\n",
        "if(a>50):\n",
        "  if(a<100):\n",
        "    print(\"50<a<100\")\n",
        "  else:\n",
        "    print(\"a>100\")\n",
        "else:\n",
        "  print(\"a<50\")"
      ],
      "metadata": {
        "colab": {
          "base_uri": "https://localhost:8080/"
        },
        "id": "b7cZgGud3D1W",
        "outputId": "0c8f5cd6-25c1-48c8-dedf-88409beddc6e"
      },
      "execution_count": null,
      "outputs": [
        {
          "output_type": "stream",
          "name": "stdout",
          "text": [
            "a<50\n"
          ]
        }
      ]
    },
    {
      "cell_type": "code",
      "source": [
        "fruit = ['사과','배','감','포도']\n",
        "fruit.append('딸기')  # 딸기를 추가\n",
        "if '딸기' in fruit :     #딸기가 있으면 출력\n",
        "  print(\"딸기가 있습니다.\")\n",
        "else:\n",
        "  print(\"딸기가 없습니다\")\n",
        "print(fruit)"
      ],
      "metadata": {
        "colab": {
          "base_uri": "https://localhost:8080/"
        },
        "id": "FHR_6aJc7cft",
        "outputId": "95c237f1-018d-499c-ddf1-290fe89c5e0e"
      },
      "execution_count": null,
      "outputs": [
        {
          "output_type": "stream",
          "name": "stdout",
          "text": [
            "딸기가 있습니다.\n",
            "['사과', '배', '감', '포도', '딸기']\n"
          ]
        }
      ]
    },
    {
      "cell_type": "code",
      "source": [
        "import random\n",
        "\n",
        "number =[]\n",
        "for num in range(0,10):\n",
        "  number.append(random.randrange(0,10))\n",
        "  print(\"생성된 리스트\", number)"
      ],
      "metadata": {
        "colab": {
          "base_uri": "https://localhost:8080/"
        },
        "id": "NFKOa3L189Wt",
        "outputId": "4dab2acf-7e7f-47c3-9623-d1685f6c5e28"
      },
      "execution_count": null,
      "outputs": [
        {
          "output_type": "stream",
          "name": "stdout",
          "text": [
            "생성된 리스트 [1]\n",
            "생성된 리스트 [1, 9]\n",
            "생성된 리스트 [1, 9, 2]\n",
            "생성된 리스트 [1, 9, 2, 5]\n",
            "생성된 리스트 [1, 9, 2, 5, 1]\n",
            "생성된 리스트 [1, 9, 2, 5, 1, 4]\n",
            "생성된 리스트 [1, 9, 2, 5, 1, 4, 1]\n",
            "생성된 리스트 [1, 9, 2, 5, 1, 4, 1, 3]\n",
            "생성된 리스트 [1, 9, 2, 5, 1, 4, 1, 3, 7]\n",
            "생성된 리스트 [1, 9, 2, 5, 1, 4, 1, 3, 7, 5]\n"
          ]
        }
      ]
    },
    {
      "cell_type": "markdown",
      "source": [
        "# 반복문"
      ],
      "metadata": {
        "id": "nPCgWKq8-k1V"
      }
    },
    {
      "cell_type": "code",
      "source": [
        "for i in range(0,3,1):    #시작값,끝값+1,증가값\n",
        " print(\"%d안녕하세요.\"% i)\n",
        " #print(i)  #반복 내용\n",
        "print(\"반갑습니다.\")"
      ],
      "metadata": {
        "colab": {
          "base_uri": "https://localhost:8080/"
        },
        "id": "HLSa8PDo-nqN",
        "outputId": "30a20f32-dd6c-4352-acdd-fdf4f1ebf43c"
      },
      "execution_count": null,
      "outputs": [
        {
          "output_type": "stream",
          "name": "stdout",
          "text": [
            "0안녕하세요.\n",
            "1안녕하세요.\n",
            "2안녕하세요.\n",
            "반갑습니다.\n"
          ]
        }
      ]
    },
    {
      "cell_type": "code",
      "source": [
        "for i in range(1,9,1):\n",
        "  print(\"%d\" % i, end=\"\")\n",
        "print(\"\\n\")\n",
        "for i in range(1,9,1):\n",
        "  print(\"\\n%d\" % i, end=\"\")\n"
      ],
      "metadata": {
        "colab": {
          "base_uri": "https://localhost:8080/"
        },
        "id": "67aESzqhABKl",
        "outputId": "76e881f0-4f49-40e6-f3bb-90a97096a820"
      },
      "execution_count": null,
      "outputs": [
        {
          "output_type": "stream",
          "name": "stdout",
          "text": [
            "12345678\n",
            "\n",
            "\n",
            "1\n",
            "2\n",
            "3\n",
            "4\n",
            "5\n",
            "6\n",
            "7\n",
            "8"
          ]
        }
      ]
    },
    {
      "cell_type": "code",
      "source": [
        "sum=0\n",
        "for i in range(1,11,1):\n",
        "  sum = sum+1\n",
        "print(\"1~10까지 합계: %d\" % sum)"
      ],
      "metadata": {
        "id": "UyYfTrURA3sM"
      },
      "execution_count": null,
      "outputs": []
    },
    {
      "cell_type": "markdown",
      "source": [
        "#### Quiz3 : 숫자입력을 받아 1부터 입력된 숫자까지의 합 for문을 활요하여 출력하시오"
      ],
      "metadata": {
        "id": "pnk4LzqUBz59"
      }
    },
    {
      "cell_type": "code",
      "source": [
        "sum,num=0,0\n",
        "num = int(input(\"숫자입력 : \"))\n",
        "for i in range(1,num+1,1):\n",
        "  sum = sum+i\n",
        "print(\"1~n까 지 합계: %d\" % sum)"
      ],
      "metadata": {
        "colab": {
          "base_uri": "https://localhost:8080/"
        },
        "id": "9vwGBBjeCYy1",
        "outputId": "e34fbb0d-4e1d-45b1-e7fa-eae3ebda4a99"
      },
      "execution_count": null,
      "outputs": [
        {
          "output_type": "stream",
          "name": "stdout",
          "text": [
            "숫자입력 : 10\n",
            "1~n까 지 합계: 55\n"
          ]
        }
      ]
    },
    {
      "cell_type": "markdown",
      "source": [
        "#중첩 for 문"
      ],
      "metadata": {
        "id": "160zbJYlDnVk"
      }
    },
    {
      "cell_type": "code",
      "source": [
        "m,n=0,0\n",
        "for m in range(1,10,1) :\n",
        "  for n in range(2,10,1):\n",
        "    print(\"%d x %d = %2d \\t\" % (n,m,m*n), end='')\n",
        "  print(\"\")\n",
        "   "
      ],
      "metadata": {
        "colab": {
          "base_uri": "https://localhost:8080/"
        },
        "id": "sRhsYzShDmQ0",
        "outputId": "63b929fe-87ae-4880-979a-d99feb936eb0"
      },
      "execution_count": null,
      "outputs": [
        {
          "output_type": "stream",
          "name": "stdout",
          "text": [
            "2 x 1 =  2 \t3 x 1 =  3 \t4 x 1 =  4 \t5 x 1 =  5 \t6 x 1 =  6 \t7 x 1 =  7 \t8 x 1 =  8 \t9 x 1 =  9 \t\n",
            "2 x 2 =  4 \t3 x 2 =  6 \t4 x 2 =  8 \t5 x 2 = 10 \t6 x 2 = 12 \t7 x 2 = 14 \t8 x 2 = 16 \t9 x 2 = 18 \t\n",
            "2 x 3 =  6 \t3 x 3 =  9 \t4 x 3 = 12 \t5 x 3 = 15 \t6 x 3 = 18 \t7 x 3 = 21 \t8 x 3 = 24 \t9 x 3 = 27 \t\n",
            "2 x 4 =  8 \t3 x 4 = 12 \t4 x 4 = 16 \t5 x 4 = 20 \t6 x 4 = 24 \t7 x 4 = 28 \t8 x 4 = 32 \t9 x 4 = 36 \t\n",
            "2 x 5 = 10 \t3 x 5 = 15 \t4 x 5 = 20 \t5 x 5 = 25 \t6 x 5 = 30 \t7 x 5 = 35 \t8 x 5 = 40 \t9 x 5 = 45 \t\n",
            "2 x 6 = 12 \t3 x 6 = 18 \t4 x 6 = 24 \t5 x 6 = 30 \t6 x 6 = 36 \t7 x 6 = 42 \t8 x 6 = 48 \t9 x 6 = 54 \t\n",
            "2 x 7 = 14 \t3 x 7 = 21 \t4 x 7 = 28 \t5 x 7 = 35 \t6 x 7 = 42 \t7 x 7 = 49 \t8 x 7 = 56 \t9 x 7 = 63 \t\n",
            "2 x 8 = 16 \t3 x 8 = 24 \t4 x 8 = 32 \t5 x 8 = 40 \t6 x 8 = 48 \t7 x 8 = 56 \t8 x 8 = 64 \t9 x 8 = 72 \t\n",
            "2 x 9 = 18 \t3 x 9 = 27 \t4 x 9 = 36 \t5 x 9 = 45 \t6 x 9 = 54 \t7 x 9 = 63 \t8 x 9 = 72 \t9 x 9 = 81 \t\n"
          ]
        }
      ]
    }
  ]
}