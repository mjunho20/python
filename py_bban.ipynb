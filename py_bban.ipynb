{
  "nbformat": 4,
  "nbformat_minor": 0,
  "metadata": {
    "colab": {
      "provenance": [],
      "toc_visible": true,
      "authorship_tag": "ABX9TyP3dY+VK+rXgFxuzImFh0Vl",
      "include_colab_link": true
    },
    "kernelspec": {
      "name": "python3",
      "display_name": "Python 3"
    },
    "language_info": {
      "name": "python"
    }
  },
  "cells": [
    {
      "cell_type": "markdown",
      "metadata": {
        "id": "view-in-github",
        "colab_type": "text"
      },
      "source": [
        "<a href=\"https://colab.research.google.com/github/mjunho20/python/blob/main/py_bban.ipynb\" target=\"_parent\"><img src=\"https://colab.research.google.com/assets/colab-badge.svg\" alt=\"Open In Colab\"/></a>"
      ]
    },
    {
      "cell_type": "markdown",
      "source": [
        "# **CH1 파이썬 문법**"
      ],
      "metadata": {
        "id": "2zujWCF-h1Hp"
      }
    },
    {
      "cell_type": "markdown",
      "source": [
        "## 자료형\n",
        "#### 숫자형\n",
        "* 정수 : 123, -20 ,0  \n",
        "* 실수:  123.45 , -432.55 , 6.08e9  \n",
        "* 8진수: 0o456, 0o123  \n",
        "* 16진수: 0xFF, 0x0D, 0x0A  "
      ],
      "metadata": {
        "id": "ru5K3shpiaIZ"
      }
    },
    {
      "cell_type": "code",
      "source": [
        "a = 10\n",
        "b = 20\n",
        "c = a + b\n",
        "d = b - a\n",
        "print(c,d,)"
      ],
      "metadata": {
        "colab": {
          "base_uri": "https://localhost:8080/"
        },
        "id": "jGMDfc7ajidf",
        "outputId": "71de7dc1-7aff-4980-a295-a4a08124d535"
      },
      "execution_count": null,
      "outputs": [
        {
          "output_type": "stream",
          "name": "stdout",
          "text": [
            "30 10\n"
          ]
        }
      ]
    },
    {
      "cell_type": "code",
      "source": [
        "a = 10\n",
        "b = 4\n",
        "#나눗셈\n",
        "c = a/b #일반적인 나누기 \n",
        "d = a//b  #나누고 몫만 출력  \n",
        "e = a%b  # 나누고 나머지만 출력\n",
        "#곱셈\n",
        "f = a*b #곱셈\n",
        "g = a**b #  a의 b제곱\n",
        "print(c,d,e,f,g)"
      ],
      "metadata": {
        "colab": {
          "base_uri": "https://localhost:8080/"
        },
        "id": "luWGLRnnktad",
        "outputId": "3560f308-5308-4286-d9a2-df7199a52898"
      },
      "execution_count": null,
      "outputs": [
        {
          "output_type": "stream",
          "name": "stdout",
          "text": [
            "2.5 2 2 40 10000\n"
          ]
        }
      ]
    },
    {
      "cell_type": "markdown",
      "source": [
        "### 문자열\n",
        "1. 큰 따옴표 : \"Hello World! it\\'s\"  \n",
        "2. 작은 따옴표 : '대한민국'  \n",
        "3. 큰 따옴표 3개 : \"\"\"Hello!\"\"\"  \n",
        "4. 작은 따옴표 3개 : \n",
        "'''Life is too short.\n",
        "You need python'''\n"
      ],
      "metadata": {
        "id": "Bkr5z2vsmz52"
      }
    },
    {
      "cell_type": "markdown",
      "source": [
        "### 변수  \n",
        "* 문자 또는 밑줄로 시작( beta, _kim )\n",
        "* 대소문자를 구분. (sum,Sum,SUM)\n",
        "* 영문자,숫자,밑줄(A-z,0-9,_)  \n",
        "* 파이썬 키워드는 사용 불가 \n"
      ],
      "metadata": {
        "id": "xyDAfAqKoUfr"
      }
    },
    {
      "cell_type": "code",
      "source": [
        "myName = \"Juno Min\"   # 카멜 표기법 : 낙타혹처럼 중간 대문자 사용\n",
        "my_Name = \"민준호\"   #스네이크 표기법 : _가들어감\n",
        "MyName = \"min\"    #파스칼 표기법 : 대문자가 듬섬듬섬\n",
        "_my_Name = \"korea\"\n",
        "MYNAME = \"Min\"\n",
        "my2name = \"12345\"\n",
        "# 2myname = \n",
        "# my-name = \n",
        "# my name =     안되는 변수들 : 숫자가 앞에 나오는 변수,-가 들어가는 변수,띄어쓰기가 들어가는 변수\n",
        "myStr = '123' # 123이라는 글자로 지정\n",
        "myNum = 123 # int 숫자로 지정\n",
        "\n",
        "print(myStr , myNum)\n",
        "print(type(myStr))\n",
        "print(type(myNum))"
      ],
      "metadata": {
        "colab": {
          "base_uri": "https://localhost:8080/"
        },
        "id": "EN-muOOmtiX_",
        "outputId": "7d16952f-b9de-4f1e-9c6b-d4e0d3e850f3"
      },
      "execution_count": null,
      "outputs": [
        {
          "output_type": "stream",
          "name": "stdout",
          "text": [
            "123 123\n",
            "<class 'str'>\n",
            "<class 'int'>\n"
          ]
        }
      ]
    },
    {
      "cell_type": "markdown",
      "source": [
        "#### 여러개 변수 할당"
      ],
      "metadata": {
        "id": "kMNubt2kwH_c"
      }
    },
    {
      "cell_type": "markdown",
      "source": [],
      "metadata": {
        "id": "32MLwy9JAnNw"
      }
    },
    {
      "cell_type": "code",
      "source": [],
      "metadata": {
        "id": "eFyep8ZxAniK"
      },
      "execution_count": null,
      "outputs": []
    },
    {
      "cell_type": "code",
      "source": [
        "x,y,z = \"포도\",\"딸기\",\"수박\"\n",
        "print(x)\n",
        "print(y)\n",
        "print(z)\n"
      ],
      "metadata": {
        "colab": {
          "base_uri": "https://localhost:8080/"
        },
        "id": "eHcw-4NRwJmc",
        "outputId": "aa481093-6050-4ae5-c428-e7c4b16ae6dc"
      },
      "execution_count": null,
      "outputs": [
        {
          "output_type": "stream",
          "name": "stdout",
          "text": [
            "포도\n",
            "딸기\n",
            "수박\n"
          ]
        }
      ]
    },
    {
      "cell_type": "code",
      "source": [
        "a=b=c=\"오렌지\"\n",
        "print(a)\n",
        "print(b)\n",
        "print(c)\n"
      ],
      "metadata": {
        "colab": {
          "base_uri": "https://localhost:8080/"
        },
        "id": "B-56SyYlwdPF",
        "outputId": "b6768ed7-5743-44e7-9b91-bd7a87cd0dbe"
      },
      "execution_count": null,
      "outputs": [
        {
          "output_type": "stream",
          "name": "stdout",
          "text": [
            "오렌지\n",
            "오렌지\n",
            "오렌지\n"
          ]
        }
      ]
    },
    {
      "cell_type": "code",
      "source": [
        "fruits = [\"포도\",\"딸기\",\"수박\"]\n",
        "x,y,z = fruits\n",
        "print(x)\n",
        "print(y)\n",
        "print(z)"
      ],
      "metadata": {
        "colab": {
          "base_uri": "https://localhost:8080/"
        },
        "id": "_Q06k0Mowy70",
        "outputId": "180a8f06-d680-4414-c64f-b5938a007a25"
      },
      "execution_count": null,
      "outputs": [
        {
          "output_type": "stream",
          "name": "stdout",
          "text": [
            "포도\n",
            "딸기\n",
            "수박\n"
          ]
        }
      ]
    },
    {
      "cell_type": "code",
      "source": [
        "x = \"Life\"\n",
        "y = \"is\"\n",
        "z = \"Beautiful\"\n",
        "print(x,y,z)\n",
        "print(x+y+z)  # 띄어쓰기 유무의 차이점이 있다.\n"
      ],
      "metadata": {
        "colab": {
          "base_uri": "https://localhost:8080/"
        },
        "id": "VfpjeWLNxqFu",
        "outputId": "0728d02d-f23a-4d0b-e9d0-50b4d3467383"
      },
      "execution_count": null,
      "outputs": [
        {
          "output_type": "stream",
          "name": "stdout",
          "text": [
            "Life is Beautiful\n",
            "LifeisBeautiful\n"
          ]
        }
      ]
    },
    {
      "cell_type": "code",
      "source": [
        "a = 1\n",
        "b = 2\n",
        "c = 3\n",
        "print(a,b,c)\n",
        "print(a+b+c)     # 숫자는 위 텍스트와 출력이 다르다는걸 알수있음."
      ],
      "metadata": {
        "colab": {
          "base_uri": "https://localhost:8080/"
        },
        "id": "4BF5lhyJySqo",
        "outputId": "ff6ddf0f-a09a-4dfa-a41a-f256d9df6695"
      },
      "execution_count": null,
      "outputs": [
        {
          "output_type": "stream",
          "name": "stdout",
          "text": [
            "1 2 3\n",
            "6\n"
          ]
        }
      ]
    },
    {
      "cell_type": "markdown",
      "source": [
        "### 데이터 유형  \n",
        "+ 텍스트  \n",
        "+ 숫자   \n",
        "+ 불(bool)  \n",
        "\n",
        " "
      ],
      "metadata": {
        "id": "39HuEI_KyuCf"
      }
    },
    {
      "cell_type": "code",
      "source": [
        "a = 100\n",
        "b = 200\n",
        "sum = a + b\n",
        "min = b - a\n",
        "div = b/a\n",
        "print(a,'+', b , '=',sum )\n",
        "print(b,'-', a , '=',min)\n",
        "print(b, '/', a, '=',div)   # 보여지는 연산과정을 출력하고싶을때"
      ],
      "metadata": {
        "colab": {
          "base_uri": "https://localhost:8080/"
        },
        "id": "xbLpeX3TzRog",
        "outputId": "e0e8370e-8e7d-4849-fdf9-d552b9809418"
      },
      "execution_count": null,
      "outputs": [
        {
          "output_type": "stream",
          "name": "stdout",
          "text": [
            "100 + 200 = 300\n",
            "200 - 100 = 100\n",
            "200 / 100 = 2.0\n"
          ]
        }
      ]
    },
    {
      "cell_type": "markdown",
      "source": [
        "#### input() 함수 이용 계산기  \n"
      ],
      "metadata": {
        "id": "6ApucZAFAYkR"
      }
    },
    {
      "cell_type": "code",
      "source": [
        "a = int(input(\"첫번째 숫자를 입력해주세요:\"))\n",
        "b = int(input(\"두번쨰 숫자를 입력해주세요:\"))\n",
        "sum = a+b\n",
        "min = b - a\n",
        "div = b/a\n",
        "mul = a*b\n",
        "print(a,\"+\",b,\"=\",sum)\n",
        "print(a,\"-\",b,\"=\",min)\n",
        "print(a,\"/\",b,\"=\",div)\n",
        "print(a,\"*\",b,\"=\",mul)\n",
        "\n"
      ],
      "metadata": {
        "colab": {
          "base_uri": "https://localhost:8080/"
        },
        "id": "JWFAjPdjApLQ",
        "outputId": "fb8baf79-b203-468b-e756-c7293bfce696"
      },
      "execution_count": null,
      "outputs": [
        {
          "output_type": "stream",
          "name": "stdout",
          "text": [
            "첫번째 숫자를 입력해주세요:1\n",
            "두번쨰 숫자를 입력해주세요:2\n",
            "1 + 2 = 3\n",
            "1 - 2 = 1\n",
            "1 / 2 = 2.0\n",
            "1 * 2 = 2\n"
          ]
        }
      ]
    },
    {
      "cell_type": "code",
      "source": [
        "a = int(input(\"첫번째 숫자를 입력해주세요:\"))\n",
        "b = int(input(\"두번쨰 숫자를 입력해주세요:\"))\n",
        "result1 = a**b\n",
        "result2 = a//b\n",
        "result3 = a%b\n",
        "print(a,\"**\",b,\"=\",result1)\n",
        "print(a,\"//\",b,\"=\",result2)\n",
        "print(a,\"%\",b,\"=\",result3)\n"
      ],
      "metadata": {
        "colab": {
          "base_uri": "https://localhost:8080/"
        },
        "id": "xl8-6x26CLsC",
        "outputId": "9b013936-ecac-4dfc-cb7d-360d84eb11ad"
      },
      "execution_count": null,
      "outputs": [
        {
          "output_type": "stream",
          "name": "stdout",
          "text": [
            "첫번째 숫자를 입력해주세요:1\n",
            "두번쨰 숫자를 입력해주세요:2\n",
            "1 ** 2 = 1\n",
            "1 // 2 = 0\n",
            "1 % 2 = 1\n"
          ]
        }
      ]
    },
    {
      "cell_type": "code",
      "source": [
        "num1 = input(\"숫자입력1:\")\n",
        "num2 = input(\"숫자입력2:\")\n",
        "result = num1+num2\n",
        "print(type(num1))\n",
        "print(num1, \"+\",num2,\"=\",result)   #이와 같은경우는 int로 지정을 안해주어서 텍스트로 인식해서 나오는경우임.\n"
      ],
      "metadata": {
        "colab": {
          "base_uri": "https://localhost:8080/"
        },
        "id": "HwP1H6guDqEC",
        "outputId": "140dc946-fac1-4915-fc2d-b6b4f4fb832d"
      },
      "execution_count": null,
      "outputs": [
        {
          "output_type": "stream",
          "name": "stdout",
          "text": [
            "숫자입력1:100\n",
            "숫자입력2:200\n",
            "<class 'str'>\n",
            "100 + 200 = 100200\n"
          ]
        }
      ]
    },
    {
      "cell_type": "code",
      "source": [
        "num1 = input(\"이름을 입력해주세요:\")\n",
        "num2 = input(\"전화번호를 입력해주세요:\")\n",
        "num3 = int(input(\"무게를 입력해주세요:\"))\n",
        "result = num3*10\n",
        "print(\"입력한 내용은 이름:\",num1,\",\",\"전화번호:\",num2,\"입니다.\",\"산출금액은\",num3,\"(g)\",\"X\",10,\"원\",\"=\",result,\"원입니다.\")\n"
      ],
      "metadata": {
        "colab": {
          "base_uri": "https://localhost:8080/"
        },
        "id": "QAlq8hdTEPvR",
        "outputId": "03e8429d-7333-42cd-fe24-f09aa4f17d08"
      },
      "execution_count": null,
      "outputs": [
        {
          "output_type": "stream",
          "name": "stdout",
          "text": [
            "이름을 입력해주세요:민준호\n",
            "전화번호를 입력해주세요:01040110537\n",
            "무게를 입력해주세요:25\n",
            "입력한 내용은 이름: 민준호 , 전화번호: 01040110537 입니다. 산출금액은 25 (g) X 10 원 = 250 원입니다.\n"
          ]
        }
      ]
    }
  ]
}