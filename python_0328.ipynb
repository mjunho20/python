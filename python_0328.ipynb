{
  "nbformat": 4,
  "nbformat_minor": 0,
  "metadata": {
    "colab": {
      "provenance": [],
      "authorship_tag": "ABX9TyMR2UEI9FYAQm/doeinARPn",
      "include_colab_link": true
    },
    "kernelspec": {
      "name": "python3",
      "display_name": "Python 3"
    },
    "language_info": {
      "name": "python"
    }
  },
  "cells": [
    {
      "cell_type": "markdown",
      "metadata": {
        "id": "view-in-github",
        "colab_type": "text"
      },
      "source": [
        "<a href=\"https://colab.research.google.com/github/mjunho20/python/blob/main/python_0328.ipynb\" target=\"_parent\"><img src=\"https://colab.research.google.com/assets/colab-badge.svg\" alt=\"Open In Colab\"/></a>"
      ]
    },
    {
      "cell_type": "markdown",
      "source": [
        "# CH3. 자료형\n",
        "\n",
        "## 1. 인덱스와 슬라이싱"
      ],
      "metadata": {
        "id": "V6kS-XVHqWFT"
      }
    },
    {
      "cell_type": "markdown",
      "source": [],
      "metadata": {
        "id": "qwLgiIbVuQ0B"
      }
    },
    {
      "cell_type": "code",
      "source": [
        "L = [0,1,2,3,4,5,6,7,8,9]\n",
        "print(L[1])              ## -1같은경우는 뒤에서 1번째 = 9"
      ],
      "metadata": {
        "colab": {
          "base_uri": "https://localhost:8080/"
        },
        "id": "w6oq8VIlqcir",
        "outputId": "49c9fcd5-ff5a-424d-e049-9fc6ebca1546"
      },
      "execution_count": null,
      "outputs": [
        {
          "output_type": "stream",
          "name": "stdout",
          "text": [
            "1\n"
          ]
        }
      ]
    },
    {
      "cell_type": "code",
      "source": [
        "L = [0,1,2,3,4,5,6,7,8,9]\n",
        "print(L[1:4])      ## 1~4번째 자리까지"
      ],
      "metadata": {
        "colab": {
          "base_uri": "https://localhost:8080/"
        },
        "id": "NHQK0rl7q7Fy",
        "outputId": "cbd7368b-d4a0-4415-d502-d7bd7e2bfb2e"
      },
      "execution_count": null,
      "outputs": [
        {
          "output_type": "stream",
          "name": "stdout",
          "text": [
            "[1, 2, 3]\n"
          ]
        }
      ]
    },
    {
      "cell_type": "code",
      "source": [
        "L = [0,1,2,3,4,5,6,7,8,9]\n",
        "print(L[0:9:2])     ##0부터 9까지 2씩 띄워서 출력하라는 뜻."
      ],
      "metadata": {
        "colab": {
          "base_uri": "https://localhost:8080/"
        },
        "id": "6fye1qvhrJ6a",
        "outputId": "1b6b6b84-4a6e-4d95-bc74-bf30d07e8210"
      },
      "execution_count": null,
      "outputs": [
        {
          "output_type": "stream",
          "name": "stdout",
          "text": [
            "[0, 2, 4, 6, 8]\n"
          ]
        }
      ]
    },
    {
      "cell_type": "code",
      "source": [
        "L = [0,1,2,3,4,5,6,7,8,9]\n",
        "print(len(L))    ## 숫자 개수\n",
        "print(L[len(L)-1])    ## 총개수-1\n"
      ],
      "metadata": {
        "colab": {
          "base_uri": "https://localhost:8080/"
        },
        "id": "fpbwIpJMrXz6",
        "outputId": "18a1bad5-8d66-4d5c-bc94-348eb5f06d9c"
      },
      "execution_count": null,
      "outputs": [
        {
          "output_type": "stream",
          "name": "stdout",
          "text": [
            "10\n",
            "9\n"
          ]
        }
      ]
    },
    {
      "cell_type": "code",
      "source": [
        "L = [0,1,2,3,4,5,6,7,8,9]\n",
        "L[0]=99\n",
        "L[9]='가나다'              ## 9번째 자리를 '가나다'로 지정\n",
        "print(L)                  ## 0번째 자리를 99로 지정하고  L 전체를 출력.\n",
        "print(L[9])               ## 리스트 L의 9번째 항목을 출력. 0은 빼고\n"
      ],
      "metadata": {
        "colab": {
          "base_uri": "https://localhost:8080/"
        },
        "id": "PLLJUruQr6vS",
        "outputId": "4bfbdb88-3c73-4cb3-cd76-3d361fb61391"
      },
      "execution_count": null,
      "outputs": [
        {
          "output_type": "stream",
          "name": "stdout",
          "text": [
            "[99, 1, 2, 3, 4, 5, 6, 7, 8, '가나다']\n",
            "가나다\n"
          ]
        }
      ]
    },
    {
      "cell_type": "code",
      "source": [
        "a = [1,2,3]\n",
        "b = [4,8,9]\n",
        "c = a+b                 ## c와 print(a+b)는 같다.\n",
        "print(a+b)              ## a+b를 리스트로 더함\n",
        "print(c)\n",
        "print(a*3)           ## a리스트를 3번 출력."
      ],
      "metadata": {
        "colab": {
          "base_uri": "https://localhost:8080/"
        },
        "id": "zaRjqMWosgE5",
        "outputId": "a1b99547-fa62-4a07-a011-4dc8d2e9fd51"
      },
      "execution_count": null,
      "outputs": [
        {
          "output_type": "stream",
          "name": "stdout",
          "text": [
            "[1, 2, 3, 4, 8, 9]\n",
            "[1, 2, 3, 4, 8, 9]\n",
            "[1, 2, 3, 1, 2, 3, 1, 2, 3]\n"
          ]
        }
      ]
    },
    {
      "cell_type": "code",
      "source": [
        "L = [1,2,3,4,5]\n",
        "print(L)\n",
        "L.append(6)\n",
        "print(L)                        ## append는 추가한다는 뜻. 추가할경우 맨 뒤에 배치.\n",
        "L.remove(3)                   \n",
        "print(L)                      ##remove는 3번째 가 아니라 그냥 값지정 '3'을 없애는것."
      ],
      "metadata": {
        "colab": {
          "base_uri": "https://localhost:8080/"
        },
        "id": "W6jUf6Sms-oh",
        "outputId": "ce002409-47d3-4d92-de39-5d0562d8299c"
      },
      "execution_count": null,
      "outputs": [
        {
          "output_type": "stream",
          "name": "stdout",
          "text": [
            "[1, 2, 3, 4, 5]\n",
            "[1, 2, 3, 4, 5, 6]\n",
            "[1, 2, 4, 5, 6]\n"
          ]
        }
      ]
    },
    {
      "cell_type": "code",
      "source": [
        "k = ['a','b','c','d']\n",
        "k.remove('d')\n",
        "print(k)              ## remove 가 값지정이라는 예시."
      ],
      "metadata": {
        "colab": {
          "base_uri": "https://localhost:8080/"
        },
        "id": "wcdIwdg8tye6",
        "outputId": "299ad676-98e4-476b-fef6-fd412c0aa934"
      },
      "execution_count": null,
      "outputs": [
        {
          "output_type": "stream",
          "name": "stdout",
          "text": [
            "['a', 'b', 'c']\n"
          ]
        }
      ]
    },
    {
      "cell_type": "code",
      "source": [
        "k = \"God is love!\"\n",
        "print(k[:3])\n",
        "print(k[6:])     ## 3번째 까지 출력, 그리고 6번째부터 출력이라는 뜻.\n",
        "print(k[-7:-2])     ## -는 뒤에서부터 라는 뜻."
      ],
      "metadata": {
        "colab": {
          "base_uri": "https://localhost:8080/"
        },
        "id": "ILYbcgKFwprI",
        "outputId": "04ed42bc-3795-4c00-c052-3b25f063073b"
      },
      "execution_count": null,
      "outputs": [
        {
          "output_type": "stream",
          "name": "stdout",
          "text": [
            "God\n",
            " love!\n",
            "s lov\n"
          ]
        }
      ]
    },
    {
      "cell_type": "code",
      "source": [
        "k = \" God is love!\"\n",
        "print(k.upper())          ## 모두 대문자로 출력.\n",
        "print(k.lower())          ## 모두 소문자로 출력.\n",
        "print(k.strip())           ## 앞에 공간을 없애줌."
      ],
      "metadata": {
        "colab": {
          "base_uri": "https://localhost:8080/"
        },
        "id": "Ol65qiTbxkO3",
        "outputId": "ee286b1b-ce63-41b5-d890-0b17bca1a36a"
      },
      "execution_count": null,
      "outputs": [
        {
          "output_type": "stream",
          "name": "stdout",
          "text": [
            " GOD IS LOVE!\n",
            " god is love!\n",
            "God is love!\n"
          ]
        }
      ]
    },
    {
      "cell_type": "code",
      "source": [
        "a = \" God, is, love!\"\n",
        "print(a.split(\",\"))            ## ,로 구분해서 따로 출력 ' '로 묶임."
      ],
      "metadata": {
        "colab": {
          "base_uri": "https://localhost:8080/"
        },
        "id": "DhYJQvAcyRFA",
        "outputId": "ac473382-3d4c-4776-c505-345c0a6ce639"
      },
      "execution_count": null,
      "outputs": [
        {
          "output_type": "stream",
          "name": "stdout",
          "text": [
            "[' God', ' is', ' love!']\n"
          ]
        }
      ]
    },
    {
      "cell_type": "code",
      "source": [
        "a = [\"apple\",\"banana\",\"cherry\"]\n",
        "a.append(\"orange\")\n",
        "print(a)                           ## append 는 추가."
      ],
      "metadata": {
        "colab": {
          "base_uri": "https://localhost:8080/"
        },
        "id": "_o_HDT3By4aB",
        "outputId": "d4c3012c-f6d9-4eb0-b44b-1636d6fb98e1"
      },
      "execution_count": null,
      "outputs": [
        {
          "output_type": "stream",
          "name": "stdout",
          "text": [
            "['apple', 'banana', 'cherry', 'orange']\n"
          ]
        }
      ]
    },
    {
      "cell_type": "code",
      "source": [
        "a = [\"apple\",\"banana\",\"cherry\"]\n",
        "a.insert(1,\"orange\")\n",
        "print(a)      ## 1번째에 오렌지 추가. 무조건 맨뒤로 가는 append와는 다르다."
      ],
      "metadata": {
        "colab": {
          "base_uri": "https://localhost:8080/"
        },
        "id": "wyxFenjzzSKX",
        "outputId": "bde762ab-7767-44f3-9702-5f66d6b800f1"
      },
      "execution_count": null,
      "outputs": [
        {
          "output_type": "stream",
          "name": "stdout",
          "text": [
            "['apple', 'orange', 'banana', 'cherry']\n"
          ]
        }
      ]
    },
    {
      "cell_type": "code",
      "source": [
        "a = [\"apple\",\"banana\",\"cherry\"]\n",
        "a.remove(\"banana\")\n",
        "print(a)                   ## 제거"
      ],
      "metadata": {
        "colab": {
          "base_uri": "https://localhost:8080/"
        },
        "id": "EAOyNpzQzutf",
        "outputId": "62240c6c-c4d2-4deb-96f1-b42dff8c3cb2"
      },
      "execution_count": null,
      "outputs": [
        {
          "output_type": "stream",
          "name": "stdout",
          "text": [
            "['apple', 'cherry']\n"
          ]
        }
      ]
    },
    {
      "cell_type": "code",
      "source": [
        "a = [\"apple\",\"banana\",\"cherry\"]\n",
        "a.pop()                  ## ()안을 지정을 안하면 맨 뒤에 것을 제거함\n",
        "print(a)\n",
        "a.pop(1)\n",
        "print(a)                 ## 1번째 것을 제거"
      ],
      "metadata": {
        "colab": {
          "base_uri": "https://localhost:8080/"
        },
        "id": "IpMzD00H0BXf",
        "outputId": "0a72fed7-fb1d-4082-8d11-32f700331ce2"
      },
      "execution_count": null,
      "outputs": [
        {
          "output_type": "stream",
          "name": "stdout",
          "text": [
            "['apple', 'banana']\n",
            "['apple']\n"
          ]
        }
      ]
    },
    {
      "cell_type": "code",
      "source": [
        "a = [\"apple\",\"banana\",\"cherry\"]\n",
        "del a[0]\n",
        "print(a)             ## 0번째 것 제거      \n",
        "a.clear()\n",
        "print(a)          ## 모든것 삭제  "
      ],
      "metadata": {
        "colab": {
          "base_uri": "https://localhost:8080/"
        },
        "id": "R2fHQ3Oa0j8f",
        "outputId": "798b6d86-1966-44a1-9e43-26b245175d52"
      },
      "execution_count": null,
      "outputs": [
        {
          "output_type": "stream",
          "name": "stdout",
          "text": [
            "['banana', 'cherry']\n",
            "[]\n"
          ]
        }
      ]
    },
    {
      "cell_type": "code",
      "source": [
        "fruit = [\"apple\",\"banana\",\"cherry\"]\n",
        "for x in fruit:\n",
        "  print(x)               ## for 문 끝에는: 있어야함. fruit 안에 목록을 나열함."
      ],
      "metadata": {
        "colab": {
          "base_uri": "https://localhost:8080/"
        },
        "id": "YyTvnW801Fdv",
        "outputId": "bca356bc-c116-4298-98b1-ca1948218f31"
      },
      "execution_count": null,
      "outputs": [
        {
          "output_type": "stream",
          "name": "stdout",
          "text": [
            "apple\n",
            "banana\n",
            "cherry\n"
          ]
        }
      ]
    },
    {
      "cell_type": "code",
      "source": [
        "fruit = [\"apple\",\"banana\",\"cherry\"]\n",
        "for i in range(len(fruit)):\n",
        "  print(fruit)                         ## fruit 안의 요소값 개수만큼 출력 : 3개니까 3번 출력."
      ],
      "metadata": {
        "colab": {
          "base_uri": "https://localhost:8080/"
        },
        "id": "-tApsOsK1pU2",
        "outputId": "fe221648-d681-40b8-d622-dcd0931f7106"
      },
      "execution_count": null,
      "outputs": [
        {
          "output_type": "stream",
          "name": "stdout",
          "text": [
            "['apple', 'banana', 'cherry']\n",
            "['apple', 'banana', 'cherry']\n",
            "['apple', 'banana', 'cherry']\n"
          ]
        }
      ]
    },
    {
      "cell_type": "markdown",
      "source": [
        "### SORT"
      ],
      "metadata": {
        "id": "BA8iJ9Jc19Xr"
      }
    },
    {
      "cell_type": "code",
      "source": [
        "a = [5,3,6,8,1,9,0]\n",
        "a.sort()\n",
        "print(a)         ## sort:순서대로 나열"
      ],
      "metadata": {
        "colab": {
          "base_uri": "https://localhost:8080/"
        },
        "id": "zXGBZV2p2JhM",
        "outputId": "a48051af-df83-4d28-8bc7-bcda06daf650"
      },
      "execution_count": null,
      "outputs": [
        {
          "output_type": "stream",
          "name": "stdout",
          "text": [
            "[0, 1, 3, 5, 6, 8, 9]\n"
          ]
        }
      ]
    },
    {
      "cell_type": "code",
      "source": [
        "a = [5,3,6,8,1,9,0,2,4,7]\n",
        "a.sort(reverse=True)\n",
        "print(a)                 ## reverse 거꾸로 출력\n",
        "a.sort()\n",
        "print(a)             ##차이점."
      ],
      "metadata": {
        "colab": {
          "base_uri": "https://localhost:8080/"
        },
        "id": "d8AGRq1h2PpU",
        "outputId": "c24d9711-d0d8-4d00-e0fe-ed7999e94106"
      },
      "execution_count": null,
      "outputs": [
        {
          "output_type": "stream",
          "name": "stdout",
          "text": [
            "[9, 8, 7, 6, 5, 4, 3, 2, 1, 0]\n",
            "[0, 1, 2, 3, 4, 5, 6, 7, 8, 9]\n"
          ]
        }
      ]
    },
    {
      "cell_type": "code",
      "source": [
        "fruit = [\"banana\",\"apple\",\"Kiwi\",\"cherry\",\"Orange\"]\n",
        "fruit.sort()\n",
        "print(fruit)           ## 숫자가 아닌 문자배열일때는 대문자 있는거 부터 출력.\n",
        "fruit.sort(key = str.lower)\n",
        "print(fruit)                ##  알바벳 순으로 정렬 대문자 구문 X\n",
        "fruit.reverse()\n",
        "print(fruit)                 ## 항목의 순서를 반대로 바꿈. 알파벳 반대."
      ],
      "metadata": {
        "colab": {
          "base_uri": "https://localhost:8080/"
        },
        "id": "yfvSQ7jM2wVm",
        "outputId": "e26dec54-9b20-4ce8-af4f-5e636738fa99"
      },
      "execution_count": null,
      "outputs": [
        {
          "output_type": "stream",
          "name": "stdout",
          "text": [
            "['Kiwi', 'Orange', 'apple', 'banana', 'cherry']\n",
            "['apple', 'banana', 'cherry', 'Kiwi', 'Orange']\n",
            "['Orange', 'Kiwi', 'cherry', 'banana', 'apple']\n"
          ]
        }
      ]
    },
    {
      "cell_type": "code",
      "source": [
        "fruit = [\"banana\",\"apple\",\"Kiwi\",\"cherry\",\"Orange\"]\n",
        "myList = fruit.copy()\n",
        "print(myList)            ## print(fruit)이랑 같음.\n",
        "cpList = list(fruit)\n",
        "print(cpList)                        ## 모두 출력값은 같음."
      ],
      "metadata": {
        "colab": {
          "base_uri": "https://localhost:8080/"
        },
        "id": "LxJcr0Y14C_d",
        "outputId": "ae65b2ed-dd9f-4f7a-cce4-d22752b16964"
      },
      "execution_count": null,
      "outputs": [
        {
          "output_type": "stream",
          "name": "stdout",
          "text": [
            "['banana', 'apple', 'Kiwi', 'cherry', 'Orange']\n",
            "['banana', 'apple', 'Kiwi', 'cherry', 'Orange']\n"
          ]
        }
      ]
    },
    {
      "cell_type": "markdown",
      "source": [
        "### 2. Tuple"
      ],
      "metadata": {
        "id": "eDRcZ1i95WJs"
      }
    },
    {
      "cell_type": "code",
      "source": [
        "l = [1,2,3]\n",
        "t = (4,5,6)          ## t 는 리스트와 동일한거 같지만 안에 변수를 바꿀수가 없음. 그리고 []가아닌 () 로 지정\n",
        "l[0] = 5\n",
        "print(l)           ##0번째 5삽입\n",
        "##t[0] = 1               ## t는 변수 변경이 불가하기 때문에 왼쪽의 것은 에러가 남."
      ],
      "metadata": {
        "colab": {
          "base_uri": "https://localhost:8080/"
        },
        "id": "ndabR2iR5eEM",
        "outputId": "706cccd3-0feb-4a3b-80bc-b33c1d89fe77"
      },
      "execution_count": null,
      "outputs": [
        {
          "output_type": "stream",
          "name": "stdout",
          "text": [
            "[5, 2, 3]\n"
          ]
        }
      ]
    },
    {
      "cell_type": "code",
      "source": [
        "f = [\"banana\",\"apple\",\"Kiwi\",\"cherry\",\"Orange\"]\n",
        "print(len(f))              ## 변수 개수 출력. len\n"
      ],
      "metadata": {
        "colab": {
          "base_uri": "https://localhost:8080/"
        },
        "id": "2Xlt24u16I2F",
        "outputId": "e76a23e9-ec0e-4173-8713-f8712cff8dd8"
      },
      "execution_count": null,
      "outputs": [
        {
          "output_type": "stream",
          "name": "stdout",
          "text": [
            "5\n"
          ]
        }
      ]
    },
    {
      "cell_type": "code",
      "source": [
        "t = (\"apple\",)\n",
        "print(t)\n",
        "print(type(t))           ## t가 튜플로 정의되었다는것을 증명.\n",
        "f = (\"banana\")\n",
        "print(f)             ## 콤마 ,의 유무 차이 튜플로 인식을 하기 위해서는 \",\"를 필요로함.\n",
        "print(type(f))     ## f가 스트링으로 인식되었다는것을 증명."
      ],
      "metadata": {
        "colab": {
          "base_uri": "https://localhost:8080/"
        },
        "id": "f0CW8u5u6Svk",
        "outputId": "6d2138d3-5e53-418d-9c8e-5db03e0058c6"
      },
      "execution_count": null,
      "outputs": [
        {
          "output_type": "stream",
          "name": "stdout",
          "text": [
            "('apple',)\n",
            "<class 'tuple'>\n",
            "banana\n",
            "<class 'str'>\n"
          ]
        }
      ]
    },
    {
      "cell_type": "code",
      "source": [
        "f = [\"banana\",\"apple\",\"Kiwi\",\"cherry\",\"Orange\"]\n",
        "print(f[:4])                 ## 4번쨰 까지만 출력\n",
        "print(f[2:])             ## 2번째 까지 없애고 3번째 부터 출력."
      ],
      "metadata": {
        "colab": {
          "base_uri": "https://localhost:8080/"
        },
        "id": "WzXAdJ-S7SKc",
        "outputId": "50361045-99b8-45f0-8b55-b5790ee5f170"
      },
      "execution_count": null,
      "outputs": [
        {
          "output_type": "stream",
          "name": "stdout",
          "text": [
            "['banana', 'apple', 'Kiwi', 'cherry']\n",
            "['Kiwi', 'cherry', 'Orange']\n"
          ]
        }
      ]
    },
    {
      "cell_type": "code",
      "source": [
        "f = (\"banana\",\"apple\",\"Kiwi\",\"cherry\",\"Orange\")   ##()으로 지정함으로서 튜플\n",
        "if \"apple\" in f:\n",
        "  print(\"Yes, 'apple' is in\")            ## 만약 f에 apple 이 있다면 문구 출력.\n",
        "else:\n",
        "  print(\"No\")"
      ],
      "metadata": {
        "colab": {
          "base_uri": "https://localhost:8080/"
        },
        "id": "SxpkYNzJ7tCe",
        "outputId": "580c9797-cc3a-4b25-cdc9-9c9bd5624743"
      },
      "execution_count": null,
      "outputs": [
        {
          "output_type": "stream",
          "name": "stdout",
          "text": [
            "Yes, 'apple' is in\n"
          ]
        }
      ]
    },
    {
      "cell_type": "markdown",
      "source": [
        "#### list<->tuple"
      ],
      "metadata": {
        "id": "Wm6pB_ID_1Mr"
      }
    },
    {
      "cell_type": "code",
      "source": [
        "firm = ['Samsung','LG','SK']\n",
        "tdata = tuple(firm)\n",
        "print(firm)            ## 리스트형태\n",
        "print(tdata)        ## 리스트를 튜플로 변환시킴."
      ],
      "metadata": {
        "colab": {
          "base_uri": "https://localhost:8080/"
        },
        "id": "oQbesovh_5qL",
        "outputId": "1118bdb2-4d37-4cf1-c7df-b042b9ece49a"
      },
      "execution_count": null,
      "outputs": [
        {
          "output_type": "stream",
          "name": "stdout",
          "text": [
            "['Samsung', 'LG', 'SK']\n",
            "('Samsung', 'LG', 'SK')\n"
          ]
        }
      ]
    },
    {
      "cell_type": "code",
      "source": [
        "# tuple에 항목을 추가시키는 방법.\n",
        "t = [\"banana\",\"apple\",\"Kiwi\",\"cherry\"]\n",
        "y = list(t)\n",
        "y.append(\"Orange\")\n",
        "t = tuple(y)\n",
        "print(t)               ##t를 리스트화 시키고 오렌지를 추가시킨후 다시 튜플로 바꾼후 출력시키는 과정."
      ],
      "metadata": {
        "colab": {
          "base_uri": "https://localhost:8080/"
        },
        "id": "PqnBrkoHAdqq",
        "outputId": "322c88cc-6c0d-4920-8085-7c7d81d5760b"
      },
      "execution_count": null,
      "outputs": [
        {
          "output_type": "stream",
          "name": "stdout",
          "text": [
            "('banana', 'apple', 'Kiwi', 'cherry', 'Orange')\n"
          ]
        }
      ]
    },
    {
      "cell_type": "code",
      "source": [
        "t = (\"apple\",\"banana\",\"cherry\")\n",
        "q = (\"kiwi\",)\n",
        "t += q\n",
        "print(t)                #튜플끼리는 더하는게 가능하다."
      ],
      "metadata": {
        "colab": {
          "base_uri": "https://localhost:8080/"
        },
        "id": "WBvgmeEXBH4S",
        "outputId": "9071507f-eede-4e94-f624-52f418c40752"
      },
      "execution_count": null,
      "outputs": [
        {
          "output_type": "stream",
          "name": "stdout",
          "text": [
            "('apple', 'banana', 'cherry', 'kiwi')\n"
          ]
        }
      ]
    },
    {
      "cell_type": "code",
      "source": [
        "t = ('apple', 'banana', 'cherry', 'kiwi')\n",
        "l = list(t)\n",
        "l.remove('apple')\n",
        "t = tuple(l)\n",
        "print(t)                   ##리스트로 바꾸고 항목 삭제후 다시 튜플화 시키고 출력.\n",
        "del tdata\n",
        "#print(t)"
      ],
      "metadata": {
        "colab": {
          "base_uri": "https://localhost:8080/"
        },
        "id": "9-zdtaJcBhTa",
        "outputId": "5b5be9db-c6f2-4c11-9214-1108c4d5496e"
      },
      "execution_count": null,
      "outputs": [
        {
          "output_type": "stream",
          "name": "stdout",
          "text": [
            "('banana', 'cherry', 'kiwi')\n"
          ]
        }
      ]
    },
    {
      "cell_type": "markdown",
      "source": [
        "#### 3.dict 사전 자료형\n"
      ],
      "metadata": {
        "id": "osV4ioLCDJKS"
      }
    },
    {
      "cell_type": "code",
      "source": [
        "d = {\n",
        "    'a':1,\n",
        "    'b':2,\n",
        "    'c':3      \n",
        "}\n",
        "print(d)\n",
        "print(d.keys())\n",
        "print(d.values())\n",
        "print(d.items())"
      ],
      "metadata": {
        "colab": {
          "base_uri": "https://localhost:8080/"
        },
        "id": "QdcLaZZhEMt5",
        "outputId": "eb62ccfe-233d-4048-ce29-acdfa29fe036"
      },
      "execution_count": null,
      "outputs": [
        {
          "output_type": "stream",
          "name": "stdout",
          "text": [
            "{'a': 1, 'b': 2, 'c': 3}\n",
            "dict_keys(['a', 'b', 'c'])\n",
            "dict_values([1, 2, 3])\n",
            "dict_items([('a', 1), ('b', 2), ('c', 3)])\n"
          ]
        }
      ]
    },
    {
      "cell_type": "code",
      "source": [
        "car = {\n",
        "    \"brand\" : \"BMW\" ,\n",
        "    \"model\" : \"GT\",\n",
        "    \"year\" : 1988\n",
        "}\n",
        "print(car)   \n",
        "print(len(car))   \n",
        "car[\"year\"] = 2000      ## year 항목을 2000으로 바꿈. 만약 없는 항목을 바꾸려할경우 그냥 추가됨.\n",
        "car[\"item\"] = 123456\n",
        "car.update({\"color\": \"red\"})         ## 다르게 추가하는 방식\n",
        "print(car)           ## 사전자료형 출력방식.\n"
      ],
      "metadata": {
        "colab": {
          "base_uri": "https://localhost:8080/"
        },
        "id": "aJLu31aJE1wx",
        "outputId": "ab9c5218-bc7d-47f6-874d-87be6dc47ecb"
      },
      "execution_count": null,
      "outputs": [
        {
          "output_type": "stream",
          "name": "stdout",
          "text": [
            "{'brand': 'BMW', 'model': 'GT', 'year': 1988}\n",
            "3\n",
            "{'brand': 'BMW', 'model': 'GT', 'year': 2000, 'item': 123456, 'color': 'red'}\n"
          ]
        }
      ]
    },
    {
      "cell_type": "code",
      "source": [
        "## 항목 제거\n",
        "car = {\n",
        "    \"brand\" : \"BMW\" ,\n",
        "    \"model\" : \"GT\",\n",
        "    \"year\" : 1988\n",
        "}\n",
        "car.popitem()          ## 맨뒤 항목 삭제   원하는거 지울땐 pop()\n",
        "print(car)"
      ],
      "metadata": {
        "colab": {
          "base_uri": "https://localhost:8080/"
        },
        "id": "Do07WDemGzZw",
        "outputId": "89f7524f-95b1-410a-f2ea-74e9fb3729af"
      },
      "execution_count": null,
      "outputs": [
        {
          "output_type": "stream",
          "name": "stdout",
          "text": [
            "{'brand': 'BMW', 'model': 'GT'}\n"
          ]
        }
      ]
    },
    {
      "cell_type": "code",
      "source": [
        "car = {\n",
        "    \"brand\" : \"BMW\" ,\n",
        "    \"model\" : \"GT\",\n",
        "    \"year\" : 1988\n",
        "}\n",
        "car.clear()   # 비움\n",
        "del car       # 삭제"
      ],
      "metadata": {
        "id": "igyHu2TuHTBg"
      },
      "execution_count": null,
      "outputs": []
    },
    {
      "cell_type": "markdown",
      "source": [
        "#### LOOP"
      ],
      "metadata": {
        "id": "qgfLgHdJHniA"
      }
    },
    {
      "cell_type": "code",
      "source": [
        "#값을 하나씩 인쇄\n",
        "car = {\n",
        "    \"brand\" : \"BMW\" ,\n",
        "    \"model\" : \"GT\",\n",
        "    \"year\" : 1988\n",
        "}\n",
        "for x in car:\n",
        "  print(car[x])        # 값들만 출력 브랜드,모델,이어 는 출력 X."
      ],
      "metadata": {
        "colab": {
          "base_uri": "https://localhost:8080/"
        },
        "id": "xy6ZWBGlHpYQ",
        "outputId": "416b28a8-d273-4945-b8a3-2f5a74a330d7"
      },
      "execution_count": null,
      "outputs": [
        {
          "output_type": "stream",
          "name": "stdout",
          "text": [
            "BMW\n",
            "GT\n",
            "1988\n"
          ]
        }
      ]
    },
    {
      "cell_type": "code",
      "source": [
        "car = {\n",
        "    \"brand\" : \"BMW\" ,\n",
        "    \"model\" : \"GT\",\n",
        "    \"year\" : 1988\n",
        "}\n",
        "for x in car.values() :         #위와 동일하게 값들만 출력.   car.keys 를 하면 브랜드 모델 이어만 출력함.\n",
        "  print(x)"
      ],
      "metadata": {
        "colab": {
          "base_uri": "https://localhost:8080/"
        },
        "id": "jxBdImYCIGGI",
        "outputId": "263c5b29-3b89-4d06-f095-6a5c3f06a058"
      },
      "execution_count": null,
      "outputs": [
        {
          "output_type": "stream",
          "name": "stdout",
          "text": [
            "BMW\n",
            "GT\n",
            "1988\n"
          ]
        }
      ]
    },
    {
      "cell_type": "code",
      "source": [
        "car = {\n",
        "    \"brand\" : \"BMW\" ,\n",
        "    \"model\" : \"GT\",\n",
        "    \"year\" : 1988\n",
        "}\n",
        "for x,y in car.items():\n",
        "  print(x,y)                     ## 항목명만 출력."
      ],
      "metadata": {
        "colab": {
          "base_uri": "https://localhost:8080/"
        },
        "id": "9Rs12SDTIiO_",
        "outputId": "cb8439fa-d795-49c9-80b4-9d1afe92cf85"
      },
      "execution_count": null,
      "outputs": [
        {
          "output_type": "stream",
          "name": "stdout",
          "text": [
            "brand BMW\n",
            "model GT\n",
            "year 1988\n"
          ]
        }
      ]
    },
    {
      "cell_type": "code",
      "source": [
        "car = {\n",
        "    \"brand\" : \"BMW\" ,\n",
        "    \"model\" : \"GT\",\n",
        "    \"year\" : 1988\n",
        "}\n",
        "myCar = car.copy()                      #복사하여 일렬로 출력하는 방식.\n",
        "print(myCar)"
      ],
      "metadata": {
        "colab": {
          "base_uri": "https://localhost:8080/"
        },
        "id": "x6Dh1FfeIxgA",
        "outputId": "7dfa11e0-131c-4c59-89cd-d8e1c4201c30"
      },
      "execution_count": null,
      "outputs": [
        {
          "output_type": "stream",
          "name": "stdout",
          "text": [
            "{'brand': 'BMW', 'model': 'GT', 'year': 1988}\n"
          ]
        }
      ]
    },
    {
      "cell_type": "code",
      "source": [
        "car = {\n",
        "    \"brand\" : \"BMW\" ,\n",
        "    \"model\" : \"GT\",\n",
        "    \"year\" : 1988\n",
        "}\n",
        "myCar = dict(car)\n",
        "print(myCar)                     ##위와 같은 출력방식.\n",
        "    "
      ],
      "metadata": {
        "colab": {
          "base_uri": "https://localhost:8080/"
        },
        "id": "33fCH54uJJy3",
        "outputId": "3970b234-a006-4bf3-b5ef-f8dee118c973"
      },
      "execution_count": null,
      "outputs": [
        {
          "output_type": "stream",
          "name": "stdout",
          "text": [
            "{'brand': 'BMW', 'model': 'GT', 'year': 1988}\n"
          ]
        }
      ]
    },
    {
      "cell_type": "code",
      "source": [
        "name1 = {\"name\":\"홍길동\",\"year\":2001}\n",
        "name2 = {\"name\":\"갑돌이\",\"year\":2010}\n",
        "name3 = {\"name\":\"갑순이\",\"year\":2003}\n",
        "family = {\n",
        "    \"name1\" :name1,\n",
        "    \"name2\" :name2,\n",
        "    \"name3\" :name3\n",
        "}\n",
        "print(family)                                 \n"
      ],
      "metadata": {
        "colab": {
          "base_uri": "https://localhost:8080/"
        },
        "id": "h82Y-szEJVRH",
        "outputId": "42c2dfc0-1164-469e-e473-52149164f011"
      },
      "execution_count": null,
      "outputs": [
        {
          "output_type": "stream",
          "name": "stdout",
          "text": [
            "{'name1': {'name': '홍길동', 'year': 2001}, 'name2': {'name': '갑돌이', 'year': 2010}, 'name3': {'name': '갑순이', 'year': 2003}}\n"
          ]
        }
      ]
    },
    {
      "cell_type": "markdown",
      "source": [
        "## CH4 조건문,반복문"
      ],
      "metadata": {
        "id": "NNrGZt1QuS65"
      }
    },
    {
      "cell_type": "markdown",
      "source": [
        "### 중첩 IF문"
      ],
      "metadata": {
        "id": "1o8Brx8eub4f"
      }
    },
    {
      "cell_type": "code",
      "source": [
        "score = int(input(\"점수를 입력해 주세요 : \"))\n",
        "if (score >100):\n",
        "  print(\"0~100까지의 숫자를 입력해주세요\")\n",
        "else: \n",
        "  if(score >= 90):\n",
        "    print(\"A\")\n",
        "  elif(score >= 80):\n",
        "    print(\"B\")\n",
        "  elif(score >= 70):\n",
        "    print(\"C\")\n",
        "  elif(score >= 60):\n",
        "    print(\"D\")\n",
        "  else:\n",
        "    print(\"F\")\n",
        "  print(\"학점 입니다. %3d\" %score) \n",
        "    "
      ],
      "metadata": {
        "colab": {
          "base_uri": "https://localhost:8080/"
        },
        "id": "vSm5NcFEuagY",
        "outputId": "7dbc2661-0486-4c47-9da5-59aa0ced72d4"
      },
      "execution_count": null,
      "outputs": [
        {
          "output_type": "stream",
          "name": "stdout",
          "text": [
            "점수를 입력해 주세요 : 60\n",
            "D\n",
            "학점 입니다.  60\n"
          ]
        }
      ]
    },
    {
      "cell_type": "code",
      "source": [
        "import random\n",
        "\n",
        "numbers = []\n",
        "for num in range(0,10):\n",
        "  numbers.append(random.randrange(0,10))\n",
        "\n",
        "print(\"생성된 리스트\", numbers)\n",
        "\n",
        "for num in range(0,10):\n",
        " if num not in numbers:\n",
        "  print(\"숫자 %d는 리스트에 없습니다.\" %num)\n",
        " else:\n",
        "  print(\"숫자 %d는 리스트에 있습니다.\" %num) "
      ],
      "metadata": {
        "colab": {
          "base_uri": "https://localhost:8080/"
        },
        "id": "5KURHAYZzkT1",
        "outputId": "afbb1bf6-ef33-4ccb-95e8-c130a9281de0"
      },
      "execution_count": null,
      "outputs": [
        {
          "output_type": "stream",
          "name": "stdout",
          "text": [
            "생성된 리스트 [5, 7, 1, 3, 8, 5, 8, 8, 3, 9]\n",
            "숫자 0는 리스트에 없습니다.\n",
            "숫자 1는 리스트에 있습니다.\n",
            "숫자 2는 리스트에 없습니다.\n",
            "숫자 3는 리스트에 있습니다.\n",
            "숫자 4는 리스트에 없습니다.\n",
            "숫자 5는 리스트에 있습니다.\n",
            "숫자 6는 리스트에 없습니다.\n",
            "숫자 7는 리스트에 있습니다.\n",
            "숫자 8는 리스트에 있습니다.\n",
            "숫자 9는 리스트에 있습니다.\n"
          ]
        }
      ]
    },
    {
      "cell_type": "code",
      "source": [
        "from ast import Num\n",
        "select, answer, numStr, num1, num2 = 0,0,\"\",00\n",
        "\n",
        "select = int(input(\"1.입력한 수식 계산 2.두수의 합계: \"))\n",
        "\n",
        "if select == 1:\n",
        "  numStr = input(\"*** 수식을 입력하세요: \")\n",
        "  answer = eval(numStr)\n",
        "  print(\" %s 결과는 %5.1f입니다.\" %(numStr,answer))\n",
        "elif select == 2:\n",
        "  num1 = int(input(\"*** 첫번째 숫자를 입력하세요 :\"))\n",
        "  num2 = int(input(\"*** 두번째 숫자를 입력하세요 :\"))\n",
        "  for i in range(num1,num2+1):\n",
        "    answer = answer + i\n",
        "    print(\"%d+...+%d는 %d입니다.\" %(num1,num2,answer))\n",
        "else:\n",
        "  print(1또는 2만 입력해야 합니다.)\n",
        "    "
      ],
      "metadata": {
        "id": "rX3cSKc752cD"
      },
      "execution_count": null,
      "outputs": []
    },
    {
      "cell_type": "markdown",
      "source": [
        "## for & while 반복문\n"
      ],
      "metadata": {
        "id": "L0SRC6Rd-mLz"
      }
    },
    {
      "cell_type": "code",
      "source": [
        "for i in range(0,3,1):\n",
        "  print(\"안녕!\")\n",
        "  "
      ],
      "metadata": {
        "id": "6450jajM-prR"
      },
      "execution_count": null,
      "outputs": []
    },
    {
      "cell_type": "code",
      "source": [
        "for i in range{0,3,1}:\n",
        "  print(\"안녕@\")\n",
        "  "
      ],
      "metadata": {
        "id": "7i3q4396-x_J"
      },
      "execution_count": null,
      "outputs": []
    },
    {
      "cell_type": "code",
      "source": [
        "for i in range(0,3,1):\n",
        "  for i in range(0,5,1):\n",
        "    print(\"i:%d, j:%d\" %(i,j))\n",
        "    "
      ],
      "metadata": {
        "id": "fW3S9wPXAGs5"
      },
      "execution_count": null,
      "outputs": []
    },
    {
      "cell_type": "code",
      "source": [
        "i,j = 0,0\n",
        "for i in range(2,10,1):\n",
        "  for j in range(1,10,1):\n",
        "    print(\"%d x %d = %2d\" %(i,j,i*j), end='')\n",
        "  print(\"\")"
      ],
      "metadata": {
        "id": "hBGmgty1BZjR"
      },
      "execution_count": null,
      "outputs": []
    },
    {
      "cell_type": "code",
      "source": [
        "i=0\n",
        "while i<3:\n",
        "  print(\"%d : while문\" %i)\n",
        "  i= i+1\n",
        "  "
      ],
      "metadata": {
        "id": "liwDrb6WDKr_"
      },
      "execution_count": null,
      "outputs": []
    },
    {
      "cell_type": "code",
      "source": [
        "# Q 1부터 10까지 합계를 while, for 문으로\n",
        "i, hap = 0,0\n",
        "i = 1\n",
        "while i<11:\n",
        "   hap = hap+ i\n",
        "   i=i+1\n",
        "\n",
        "print(\"1부터 10까지의 합계: %d\" %hap)"
      ],
      "metadata": {
        "id": "foowX5xuDXNo"
      },
      "execution_count": null,
      "outputs": []
    },
    {
      "cell_type": "code",
      "source": [
        "# while True:\n",
        "print(\"무한 루프 ㅠㅠ\", end='')\n"
      ],
      "metadata": {
        "id": "2j8skxFeEJyf"
      },
      "execution_count": null,
      "outputs": []
    },
    {
      "cell_type": "code",
      "source": [
        "#break\n",
        "for i in range(1,100):\n",
        "  print(\"for문 %d번 실행\" %i) \n",
        "  break\n",
        "print(\"브레이크 빠짐\")"
      ],
      "metadata": {
        "id": "XraV0cvyEsCI"
      },
      "execution_count": null,
      "outputs": []
    },
    {
      "cell_type": "code",
      "source": [
        "hap = 0\n",
        "a,b = 0,0\n",
        "while True:\n",
        "  a = int(input(\"덧셈 첫번째 수 입력: \"))\n",
        "  if a==0:\n",
        "    break\n",
        "  b = int(input(\"덧셈 두번째 수 입력: \"))\n",
        "  hap = a+b\n",
        "  print(\"%d + %d = %d\" %(a,b,hap))\n",
        "\n",
        "print(\"break로 탈출\")\n"
      ],
      "metadata": {
        "id": "B4TAZ5-zFpRH"
      },
      "execution_count": null,
      "outputs": []
    },
    {
      "cell_type": "code",
      "source": [
        "#continue\n",
        "hap, i =0,0\n",
        "for i in range(1,101):\n",
        "  if i % 2 == 0:\n",
        "    print(\"i:%d\" %i)\n",
        "    continue\n",
        "  hap += i \n",
        "\n",
        "print(\"1~100 합계(3의 배수 제외): %d\" %hap)"
      ],
      "metadata": {
        "id": "ZMR7yxsrGgFo"
      },
      "execution_count": null,
      "outputs": []
    },
    {
      "cell_type": "code",
      "source": [
        "fruits = [\"사과\", \"바나나\", \"체리\"]\n",
        "for x in fruits:\n",
        "  if x ==\"바나나\"\n",
        "    continue\n",
        "  print(x)"
      ],
      "metadata": {
        "id": "GP5Pfym_If02"
      },
      "execution_count": null,
      "outputs": []
    },
    {
      "cell_type": "code",
      "source": [
        "for x in range(6):\n",
        "  if x ==3:break\n",
        "  print(x)\n",
        "else:\n",
        "  print(\"끝\")"
      ],
      "metadata": {
        "id": "nby_fmxSJYE-"
      },
      "execution_count": null,
      "outputs": []
    },
    {
      "cell_type": "code",
      "source": [
        "# for 문 루프는 비워 둘수 없음\n",
        "for x in [0,1,2]:\n",
        "  pass"
      ],
      "metadata": {
        "id": "AswMtwCqKTeG"
      },
      "execution_count": null,
      "outputs": []
    },
    {
      "cell_type": "code",
      "source": [
        "# 두수를 더하는 함수\n",
        "def plus(v1,v2):\n",
        "  result = 0\n",
        "  result = v1+v2\n",
        "  return result\n",
        "\n",
        "hap = 0\n",
        "hap = plus(10,20)\n",
        "print(\"10+20 plus() 처리 결과는 %d\" %hap)\n",
        "hap = plus(20,30)\n",
        "print(\"20+30 plus() 처리 결과는 %d\" %hap)\n"
      ],
      "metadata": {
        "id": "2rakCeiJMPl0"
      },
      "execution_count": null,
      "outputs": []
    },
    {
      "cell_type": "code",
      "source": [
        "#계산기 코드\n",
        "def calc(v1,v2,op):\n",
        "  result = 0\n",
        "  if op == '+':\n",
        "    result = v1 + v2\n",
        "  elif op == '-':\n",
        "    result = v1 - v2\n",
        "  elif op == '*':\n",
        "    result = v1 * v2\n",
        "  elif op == '/':\n",
        "    result = v1 / v2\n",
        "  return result\n",
        "\n",
        "\n",
        "rst = 0\n",
        "var1,var2,opr = 0,0,\"\"\n",
        "\n",
        "opr = input(\"(+,-,*,/) 입력: \")\n",
        "var1 = int(input(\"1번째 수 입력\"))\n",
        "var2 = int(input(\"2번쨰 수 입력\"))\n",
        "rst = calc(var1,var2,opr)\n",
        "\n",
        "print(\"계산기 %d %s %d = %d\" %(var1,opr,var2,rst))\n",
        "\n",
        "\n",
        "\n"
      ],
      "metadata": {
        "colab": {
          "base_uri": "https://localhost:8080/"
        },
        "id": "JE4cwDDFNH2m",
        "outputId": "55f833c2-4684-43ea-f9e6-4cb34b8c0906"
      },
      "execution_count": null,
      "outputs": [
        {
          "output_type": "stream",
          "name": "stdout",
          "text": [
            "(+,-,*,/) 입력: +\n",
            "1번째 수 입력1\n",
            "2번쨰 수 입력1\n",
            "계산기 1 + 1 = 2\n"
          ]
        }
      ]
    },
    {
      "cell_type": "markdown",
      "source": [
        "# Q 0으로 나누려고하면 메세지 출력,\n",
        "** 제곱 연산자 추가\n"
      ],
      "metadata": {
        "id": "zuSJk4ZUQENs"
      }
    },
    {
      "cell_type": "code",
      "source": [
        "#전역 변수와 지역변수\n",
        "def func1():\n",
        "  a = 10 # 지역변수\n",
        "  print(\"func1()에서 값 %d\" %a)\n",
        "def func2():\n",
        "  print(\"func2()에서 값 %d\" %a)\n",
        "\n",
        "#a = 20 # 전역 변수\n",
        "\n",
        "func1()\n",
        "func2()\n",
        "   "
      ],
      "metadata": {
        "id": "qneT0D6HRAxr"
      },
      "execution_count": null,
      "outputs": []
    },
    {
      "cell_type": "code",
      "source": [
        "while True:\n",
        "    num1 = input(\"첫 번째 숫자를 입력해주세요.: \")\n",
        "    if num1 == 'quit':\n",
        "        break\n",
        "    try:\n",
        "        num1 = int(num1)\n",
        "    except ValueError:\n",
        "        print(\"다시 입력해주세요.\")\n",
        "        continue\n",
        "\n",
        "    op = input(\"연산자를 입력하세요 (+, -, *, /, **): \")\n",
        "\n",
        "    num2 = input(\"두 번째 숫자를 입력해주세요.: \")\n",
        "    if num2 == 'quit':\n",
        "        break\n",
        "    try:\n",
        "        num2 = int(num2)\n",
        "    except ValueError:\n",
        "        print(\"다시 입력해주세요.\")\n",
        "        continue\n",
        "\n",
        "    if op == '+':\n",
        "        result = num1 + num2\n",
        "    elif op == '-':\n",
        "        result = num1 - num2\n",
        "    elif op == '*':\n",
        "        result = num1 * num2\n",
        "    elif op == '/':\n",
        "        if num2 == 0:\n",
        "            print(\"0으로 나눌 수 없습니다.\")\n",
        "            continue\n",
        "        result = num1 / num2\n",
        "    elif op == '**':\n",
        "        result = num1 ** num2\n",
        "    else:\n",
        "        print(\"잘못된 연산자입니다.\")\n",
        "        continue\n",
        "\n",
        "    print(\"결과: \", result)\n"
      ],
      "metadata": {
        "colab": {
          "base_uri": "https://localhost:8080/"
        },
        "id": "Xitd3flt8LzG",
        "outputId": "88e7a7fe-ac5c-482f-b83a-93cf6dd47d37"
      },
      "execution_count": null,
      "outputs": [
        {
          "name": "stdout",
          "output_type": "stream",
          "text": [
            "첫 번째 숫자를 입력하세요: 4\n",
            "연산자를 입력하세요 (+, -, *, /, **): **\n",
            "두 번째 숫자를 입력하세요: 2\n",
            "결과:  16\n",
            "첫 번째 숫자를 입력하세요: quit\n"
          ]
        }
      ]
    },
    {
      "cell_type": "markdown",
      "source": [
        "# CH5 파일 처리\n",
        "\"r\" read\n",
        "\"a\" append\n",
        "\"w\" write\n",
        "\"x\" create\n",
        "\"t\" text\n",
        "\"b\" binary"
      ],
      "metadata": {
        "id": "TsgjXv6Tv28x"
      }
    },
    {
      "cell_type": "code",
      "source": [
        "# w\n",
        "from google.colab import files\n",
        "\n",
        "f = open(\"a.txt\",\"w\")\n",
        "f.write(\"12345\")\n",
        "f.close()\n",
        "\n",
        "f = open(\"a.txt\",\"w\")\n",
        "f.write(\"abcde\")\n",
        "f.close\n",
        "\n",
        "files.download('a.txt')"
      ],
      "metadata": {
        "colab": {
          "base_uri": "https://localhost:8080/",
          "height": 17
        },
        "id": "0wXjEHB-wS14",
        "outputId": "84bc7263-0547-4da0-baea-62af9eee8c05"
      },
      "execution_count": null,
      "outputs": [
        {
          "output_type": "display_data",
          "data": {
            "text/plain": [
              "<IPython.core.display.Javascript object>"
            ],
            "application/javascript": [
              "\n",
              "    async function download(id, filename, size) {\n",
              "      if (!google.colab.kernel.accessAllowed) {\n",
              "        return;\n",
              "      }\n",
              "      const div = document.createElement('div');\n",
              "      const label = document.createElement('label');\n",
              "      label.textContent = `Downloading \"${filename}\": `;\n",
              "      div.appendChild(label);\n",
              "      const progress = document.createElement('progress');\n",
              "      progress.max = size;\n",
              "      div.appendChild(progress);\n",
              "      document.body.appendChild(div);\n",
              "\n",
              "      const buffers = [];\n",
              "      let downloaded = 0;\n",
              "\n",
              "      const channel = await google.colab.kernel.comms.open(id);\n",
              "      // Send a message to notify the kernel that we're ready.\n",
              "      channel.send({})\n",
              "\n",
              "      for await (const message of channel.messages) {\n",
              "        // Send a message to notify the kernel that we're ready.\n",
              "        channel.send({})\n",
              "        if (message.buffers) {\n",
              "          for (const buffer of message.buffers) {\n",
              "            buffers.push(buffer);\n",
              "            downloaded += buffer.byteLength;\n",
              "            progress.value = downloaded;\n",
              "          }\n",
              "        }\n",
              "      }\n",
              "      const blob = new Blob(buffers, {type: 'application/binary'});\n",
              "      const a = document.createElement('a');\n",
              "      a.href = window.URL.createObjectURL(blob);\n",
              "      a.download = filename;\n",
              "      div.appendChild(a);\n",
              "      a.click();\n",
              "      div.remove();\n",
              "    }\n",
              "  "
            ]
          },
          "metadata": {}
        },
        {
          "output_type": "display_data",
          "data": {
            "text/plain": [
              "<IPython.core.display.Javascript object>"
            ],
            "application/javascript": [
              "download(\"download_5dedb2b2-60bc-4f0c-8a63-3be82b8838d2\", \"a.txt\", 0)"
            ]
          },
          "metadata": {}
        }
      ]
    },
    {
      "cell_type": "code",
      "source": [
        "from google.colab import files\n",
        "\n",
        "f = open(\"a.txt\",'w')\n",
        "f.write(\"12345\")\n",
        "f.close()\n",
        "\n",
        "f = open(\"a.txt\",'a')\n",
        "f.write(\"6789\")\n",
        "f.close()\n",
        "\n",
        "\n",
        "files.download('a.txt')"
      ],
      "metadata": {
        "colab": {
          "base_uri": "https://localhost:8080/",
          "height": 17
        },
        "id": "WSkMca6kyCpQ",
        "outputId": "ab82c07c-ca2a-44d6-89d7-4a8074dc43ab"
      },
      "execution_count": null,
      "outputs": [
        {
          "output_type": "display_data",
          "data": {
            "text/plain": [
              "<IPython.core.display.Javascript object>"
            ],
            "application/javascript": [
              "\n",
              "    async function download(id, filename, size) {\n",
              "      if (!google.colab.kernel.accessAllowed) {\n",
              "        return;\n",
              "      }\n",
              "      const div = document.createElement('div');\n",
              "      const label = document.createElement('label');\n",
              "      label.textContent = `Downloading \"${filename}\": `;\n",
              "      div.appendChild(label);\n",
              "      const progress = document.createElement('progress');\n",
              "      progress.max = size;\n",
              "      div.appendChild(progress);\n",
              "      document.body.appendChild(div);\n",
              "\n",
              "      const buffers = [];\n",
              "      let downloaded = 0;\n",
              "\n",
              "      const channel = await google.colab.kernel.comms.open(id);\n",
              "      // Send a message to notify the kernel that we're ready.\n",
              "      channel.send({})\n",
              "\n",
              "      for await (const message of channel.messages) {\n",
              "        // Send a message to notify the kernel that we're ready.\n",
              "        channel.send({})\n",
              "        if (message.buffers) {\n",
              "          for (const buffer of message.buffers) {\n",
              "            buffers.push(buffer);\n",
              "            downloaded += buffer.byteLength;\n",
              "            progress.value = downloaded;\n",
              "          }\n",
              "        }\n",
              "      }\n",
              "      const blob = new Blob(buffers, {type: 'application/binary'});\n",
              "      const a = document.createElement('a');\n",
              "      a.href = window.URL.createObjectURL(blob);\n",
              "      a.download = filename;\n",
              "      div.appendChild(a);\n",
              "      a.click();\n",
              "      div.remove();\n",
              "    }\n",
              "  "
            ]
          },
          "metadata": {}
        },
        {
          "output_type": "display_data",
          "data": {
            "text/plain": [
              "<IPython.core.display.Javascript object>"
            ],
            "application/javascript": [
              "download(\"download_6a062daa-82d9-446e-9722-566ea4c7fa4a\", \"a.txt\", 9)"
            ]
          },
          "metadata": {}
        }
      ]
    },
    {
      "cell_type": "code",
      "source": [
        "from google.colab import files\n",
        "\n",
        "f = open(\"b.txt\",'x')\n",
        "f.write(\"abcde\")\n",
        "f.close()\n",
        "\n",
        "files.download('b.txt')\n",
        "\n"
      ],
      "metadata": {
        "colab": {
          "base_uri": "https://localhost:8080/",
          "height": 17
        },
        "id": "xnE36a6hy2xg",
        "outputId": "8a08603b-87b4-48bc-cc2b-f225bb57cdc4"
      },
      "execution_count": null,
      "outputs": [
        {
          "output_type": "display_data",
          "data": {
            "text/plain": [
              "<IPython.core.display.Javascript object>"
            ],
            "application/javascript": [
              "\n",
              "    async function download(id, filename, size) {\n",
              "      if (!google.colab.kernel.accessAllowed) {\n",
              "        return;\n",
              "      }\n",
              "      const div = document.createElement('div');\n",
              "      const label = document.createElement('label');\n",
              "      label.textContent = `Downloading \"${filename}\": `;\n",
              "      div.appendChild(label);\n",
              "      const progress = document.createElement('progress');\n",
              "      progress.max = size;\n",
              "      div.appendChild(progress);\n",
              "      document.body.appendChild(div);\n",
              "\n",
              "      const buffers = [];\n",
              "      let downloaded = 0;\n",
              "\n",
              "      const channel = await google.colab.kernel.comms.open(id);\n",
              "      // Send a message to notify the kernel that we're ready.\n",
              "      channel.send({})\n",
              "\n",
              "      for await (const message of channel.messages) {\n",
              "        // Send a message to notify the kernel that we're ready.\n",
              "        channel.send({})\n",
              "        if (message.buffers) {\n",
              "          for (const buffer of message.buffers) {\n",
              "            buffers.push(buffer);\n",
              "            downloaded += buffer.byteLength;\n",
              "            progress.value = downloaded;\n",
              "          }\n",
              "        }\n",
              "      }\n",
              "      const blob = new Blob(buffers, {type: 'application/binary'});\n",
              "      const a = document.createElement('a');\n",
              "      a.href = window.URL.createObjectURL(blob);\n",
              "      a.download = filename;\n",
              "      div.appendChild(a);\n",
              "      a.click();\n",
              "      div.remove();\n",
              "    }\n",
              "  "
            ]
          },
          "metadata": {}
        },
        {
          "output_type": "display_data",
          "data": {
            "text/plain": [
              "<IPython.core.display.Javascript object>"
            ],
            "application/javascript": [
              "download(\"download_d1756d31-11c9-4aa8-baaa-694dba96a689\", \"b.txt\", 5)"
            ]
          },
          "metadata": {}
        }
      ]
    },
    {
      "cell_type": "code",
      "source": [
        "from google.colab import files\n",
        "# 생성된 파일이 있으면 x는 사용하면 에러남\n",
        "f = open(\"b.txt\",'x')\n",
        "f.write(\"abcde\")\n",
        "f.close()\n",
        "\n",
        "files.download('b.txt')"
      ],
      "metadata": {
        "colab": {
          "base_uri": "https://localhost:8080/",
          "height": 248
        },
        "id": "wOiZN107zH-n",
        "outputId": "545945c9-0860-4d0f-96fd-396d7d673328"
      },
      "execution_count": null,
      "outputs": [
        {
          "output_type": "error",
          "ename": "FileExistsError",
          "evalue": "ignored",
          "traceback": [
            "\u001b[0;31m---------------------------------------------------------------------------\u001b[0m",
            "\u001b[0;31mFileExistsError\u001b[0m                           Traceback (most recent call last)",
            "\u001b[0;32m<ipython-input-7-2316ba413f3e>\u001b[0m in \u001b[0;36m<cell line: 3>\u001b[0;34m()\u001b[0m\n\u001b[1;32m      1\u001b[0m \u001b[0;32mfrom\u001b[0m \u001b[0mgoogle\u001b[0m\u001b[0;34m.\u001b[0m\u001b[0mcolab\u001b[0m \u001b[0;32mimport\u001b[0m \u001b[0mfiles\u001b[0m\u001b[0;34m\u001b[0m\u001b[0;34m\u001b[0m\u001b[0m\n\u001b[1;32m      2\u001b[0m \u001b[0;31m# 생성된 파일이 없을때\u001b[0m\u001b[0;34m\u001b[0m\u001b[0;34m\u001b[0m\u001b[0m\n\u001b[0;32m----> 3\u001b[0;31m \u001b[0mf\u001b[0m \u001b[0;34m=\u001b[0m \u001b[0mopen\u001b[0m\u001b[0;34m(\u001b[0m\u001b[0;34m\"b.txt\"\u001b[0m\u001b[0;34m,\u001b[0m\u001b[0;34m'x'\u001b[0m\u001b[0;34m)\u001b[0m\u001b[0;34m\u001b[0m\u001b[0;34m\u001b[0m\u001b[0m\n\u001b[0m\u001b[1;32m      4\u001b[0m \u001b[0mf\u001b[0m\u001b[0;34m.\u001b[0m\u001b[0mwrite\u001b[0m\u001b[0;34m(\u001b[0m\u001b[0;34m\"abcde\"\u001b[0m\u001b[0;34m)\u001b[0m\u001b[0;34m\u001b[0m\u001b[0;34m\u001b[0m\u001b[0m\n\u001b[1;32m      5\u001b[0m \u001b[0mf\u001b[0m\u001b[0;34m.\u001b[0m\u001b[0mclose\u001b[0m\u001b[0;34m(\u001b[0m\u001b[0;34m)\u001b[0m\u001b[0;34m\u001b[0m\u001b[0;34m\u001b[0m\u001b[0m\n",
            "\u001b[0;31mFileExistsError\u001b[0m: [Errno 17] File exists: 'b.txt'"
          ]
        }
      ]
    },
    {
      "cell_type": "code",
      "source": [
        "# 여러줄 내용 입력\n",
        "from google.colab import files\n",
        "f = open(\"a.txt\",'w')\n",
        "#f.write(\"12345678\\n987654321\\nabcde\")\n",
        "f.write(\"\"\"1234\n",
        "4567\n",
        "890\"\"\")            # 줄바꿈의 다른예시\n",
        "f.close()\n",
        "\n",
        "files.download('a.txt')\n"
      ],
      "metadata": {
        "colab": {
          "base_uri": "https://localhost:8080/",
          "height": 17
        },
        "id": "y-10jkudzXwv",
        "outputId": "2f662bff-cd0a-46f3-9838-d7b9d90bcb67"
      },
      "execution_count": null,
      "outputs": [
        {
          "output_type": "display_data",
          "data": {
            "text/plain": [
              "<IPython.core.display.Javascript object>"
            ],
            "application/javascript": [
              "\n",
              "    async function download(id, filename, size) {\n",
              "      if (!google.colab.kernel.accessAllowed) {\n",
              "        return;\n",
              "      }\n",
              "      const div = document.createElement('div');\n",
              "      const label = document.createElement('label');\n",
              "      label.textContent = `Downloading \"${filename}\": `;\n",
              "      div.appendChild(label);\n",
              "      const progress = document.createElement('progress');\n",
              "      progress.max = size;\n",
              "      div.appendChild(progress);\n",
              "      document.body.appendChild(div);\n",
              "\n",
              "      const buffers = [];\n",
              "      let downloaded = 0;\n",
              "\n",
              "      const channel = await google.colab.kernel.comms.open(id);\n",
              "      // Send a message to notify the kernel that we're ready.\n",
              "      channel.send({})\n",
              "\n",
              "      for await (const message of channel.messages) {\n",
              "        // Send a message to notify the kernel that we're ready.\n",
              "        channel.send({})\n",
              "        if (message.buffers) {\n",
              "          for (const buffer of message.buffers) {\n",
              "            buffers.push(buffer);\n",
              "            downloaded += buffer.byteLength;\n",
              "            progress.value = downloaded;\n",
              "          }\n",
              "        }\n",
              "      }\n",
              "      const blob = new Blob(buffers, {type: 'application/binary'});\n",
              "      const a = document.createElement('a');\n",
              "      a.href = window.URL.createObjectURL(blob);\n",
              "      a.download = filename;\n",
              "      div.appendChild(a);\n",
              "      a.click();\n",
              "      div.remove();\n",
              "    }\n",
              "  "
            ]
          },
          "metadata": {}
        },
        {
          "output_type": "display_data",
          "data": {
            "text/plain": [
              "<IPython.core.display.Javascript object>"
            ],
            "application/javascript": [
              "download(\"download_96f267a3-e04b-482a-9040-eefe7344e1ba\", \"a.txt\", 13)"
            ]
          },
          "metadata": {}
        }
      ]
    },
    {
      "cell_type": "code",
      "source": [
        "# 리스트, 튜플 내용을 입력\n",
        "from google.colab import files\n",
        "\n",
        "t = (\"1\",\"2\",\"3\",\"4\",\"\\n\")\n",
        "l = [\"a\",\"b\",\"c\",\"d\"]\n",
        "f = open(\"a.txt\",'w')\n",
        "for i in range(0,5):\n",
        "   f.writelines(t)\n",
        "f.writelines(l)\n",
        "f.close()\n",
        "\n",
        "\n",
        "files.download('a.txt')"
      ],
      "metadata": {
        "colab": {
          "base_uri": "https://localhost:8080/",
          "height": 17
        },
        "id": "sVNUim2o0gig",
        "outputId": "546de019-0775-45ba-94c1-750415fba787"
      },
      "execution_count": null,
      "outputs": [
        {
          "output_type": "display_data",
          "data": {
            "text/plain": [
              "<IPython.core.display.Javascript object>"
            ],
            "application/javascript": [
              "\n",
              "    async function download(id, filename, size) {\n",
              "      if (!google.colab.kernel.accessAllowed) {\n",
              "        return;\n",
              "      }\n",
              "      const div = document.createElement('div');\n",
              "      const label = document.createElement('label');\n",
              "      label.textContent = `Downloading \"${filename}\": `;\n",
              "      div.appendChild(label);\n",
              "      const progress = document.createElement('progress');\n",
              "      progress.max = size;\n",
              "      div.appendChild(progress);\n",
              "      document.body.appendChild(div);\n",
              "\n",
              "      const buffers = [];\n",
              "      let downloaded = 0;\n",
              "\n",
              "      const channel = await google.colab.kernel.comms.open(id);\n",
              "      // Send a message to notify the kernel that we're ready.\n",
              "      channel.send({})\n",
              "\n",
              "      for await (const message of channel.messages) {\n",
              "        // Send a message to notify the kernel that we're ready.\n",
              "        channel.send({})\n",
              "        if (message.buffers) {\n",
              "          for (const buffer of message.buffers) {\n",
              "            buffers.push(buffer);\n",
              "            downloaded += buffer.byteLength;\n",
              "            progress.value = downloaded;\n",
              "          }\n",
              "        }\n",
              "      }\n",
              "      const blob = new Blob(buffers, {type: 'application/binary'});\n",
              "      const a = document.createElement('a');\n",
              "      a.href = window.URL.createObjectURL(blob);\n",
              "      a.download = filename;\n",
              "      div.appendChild(a);\n",
              "      a.click();\n",
              "      div.remove();\n",
              "    }\n",
              "  "
            ]
          },
          "metadata": {}
        },
        {
          "output_type": "display_data",
          "data": {
            "text/plain": [
              "<IPython.core.display.Javascript object>"
            ],
            "application/javascript": [
              "download(\"download_36d02d49-4205-4a64-b845-1296b996eb63\", \"a.txt\", 29)"
            ]
          },
          "metadata": {}
        }
      ]
    },
    {
      "cell_type": "code",
      "source": [
        "# read 모드로 파일 열기\n",
        "from google.colab import files\n",
        "\n",
        "f = open(\"a.txt\",'w')\n",
        "f.write(\"1234\")\n",
        "f.close()\n",
        "\n",
        "f = open(\"a.txt\",'r')\n",
        "print(f.read())\n",
        "f.close()\n",
        "\n",
        "files.download('a.txt')"
      ],
      "metadata": {
        "colab": {
          "base_uri": "https://localhost:8080/",
          "height": 35
        },
        "id": "bZ220wKd1zuk",
        "outputId": "f40426e4-8501-4db6-ee24-c1ec490d84c0"
      },
      "execution_count": null,
      "outputs": [
        {
          "output_type": "stream",
          "name": "stdout",
          "text": [
            "1234\n"
          ]
        },
        {
          "output_type": "display_data",
          "data": {
            "text/plain": [
              "<IPython.core.display.Javascript object>"
            ],
            "application/javascript": [
              "\n",
              "    async function download(id, filename, size) {\n",
              "      if (!google.colab.kernel.accessAllowed) {\n",
              "        return;\n",
              "      }\n",
              "      const div = document.createElement('div');\n",
              "      const label = document.createElement('label');\n",
              "      label.textContent = `Downloading \"${filename}\": `;\n",
              "      div.appendChild(label);\n",
              "      const progress = document.createElement('progress');\n",
              "      progress.max = size;\n",
              "      div.appendChild(progress);\n",
              "      document.body.appendChild(div);\n",
              "\n",
              "      const buffers = [];\n",
              "      let downloaded = 0;\n",
              "\n",
              "      const channel = await google.colab.kernel.comms.open(id);\n",
              "      // Send a message to notify the kernel that we're ready.\n",
              "      channel.send({})\n",
              "\n",
              "      for await (const message of channel.messages) {\n",
              "        // Send a message to notify the kernel that we're ready.\n",
              "        channel.send({})\n",
              "        if (message.buffers) {\n",
              "          for (const buffer of message.buffers) {\n",
              "            buffers.push(buffer);\n",
              "            downloaded += buffer.byteLength;\n",
              "            progress.value = downloaded;\n",
              "          }\n",
              "        }\n",
              "      }\n",
              "      const blob = new Blob(buffers, {type: 'application/binary'});\n",
              "      const a = document.createElement('a');\n",
              "      a.href = window.URL.createObjectURL(blob);\n",
              "      a.download = filename;\n",
              "      div.appendChild(a);\n",
              "      a.click();\n",
              "      div.remove();\n",
              "    }\n",
              "  "
            ]
          },
          "metadata": {}
        },
        {
          "output_type": "display_data",
          "data": {
            "text/plain": [
              "<IPython.core.display.Javascript object>"
            ],
            "application/javascript": [
              "download(\"download_2964e096-5b55-4add-9bc7-6c460a207d06\", \"a.txt\", 4)"
            ]
          },
          "metadata": {}
        }
      ]
    },
    {
      "cell_type": "code",
      "source": [
        "#readline() 함수: 한줄씩 가져옴\n",
        "from google.colab import files\n",
        "\n",
        "f = open(\"a.txt\",'r')\n",
        "print(f.readline())\n",
        "print(f.readline())             ##  두줄을 읽으려 했지만 두번째줄에 적힌게 없어서 1줄만 읽힘\n",
        "f.close()"
      ],
      "metadata": {
        "colab": {
          "base_uri": "https://localhost:8080/"
        },
        "id": "dTi2mSWd2idn",
        "outputId": "a96a8b39-9fab-4b75-df80-68d98ba1238a"
      },
      "execution_count": null,
      "outputs": [
        {
          "output_type": "stream",
          "name": "stdout",
          "text": [
            "1234\n",
            "\n"
          ]
        }
      ]
    },
    {
      "cell_type": "code",
      "source": [
        "from google.colab import files\n",
        "\n",
        "import os\n",
        "if os.path.exists(\"a.txt\"):\n",
        "  os.remove(\"a.txt\")  #os.rmdir(\"folder\") 폴더를 지울땐 이거\n",
        "  else:\n",
        "  print(\"파일이 없음.\")"
      ],
      "metadata": {
        "colab": {
          "base_uri": "https://localhost:8080/"
        },
        "id": "pqi9VdX08wi0",
        "outputId": "c73b0b42-aec6-429c-c6a3-b59a447223a5"
      },
      "execution_count": null,
      "outputs": [
        {
          "output_type": "stream",
          "name": "stdout",
          "text": [
            "파일이 없음.\n"
          ]
        }
      ]
    },
    {
      "cell_type": "code",
      "source": [
        "from google.colab import files\n",
        "import os\n",
        "\n",
        "print(os.listdir('.'))\n",
        "os.rename(\"b.txt\",\"a.txt\")  #file 이름 변경     , 이미 a로 바꿔서 에러나는거임.\n",
        "\n",
        "print(os.listdir('.'))"
      ],
      "metadata": {
        "colab": {
          "base_uri": "https://localhost:8080/",
          "height": 248
        },
        "id": "4ItmFPBQ90Fj",
        "outputId": "6bf256bf-21e3-4f2a-ad5e-d493f1ff82a0"
      },
      "execution_count": null,
      "outputs": [
        {
          "output_type": "stream",
          "name": "stdout",
          "text": [
            "['.config', 'a.txt', 'sample_data']\n"
          ]
        },
        {
          "output_type": "error",
          "ename": "FileNotFoundError",
          "evalue": "ignored",
          "traceback": [
            "\u001b[0;31m---------------------------------------------------------------------------\u001b[0m",
            "\u001b[0;31mFileNotFoundError\u001b[0m                         Traceback (most recent call last)",
            "\u001b[0;32m<ipython-input-17-3d58e1039422>\u001b[0m in \u001b[0;36m<cell line: 5>\u001b[0;34m()\u001b[0m\n\u001b[1;32m      3\u001b[0m \u001b[0;34m\u001b[0m\u001b[0m\n\u001b[1;32m      4\u001b[0m \u001b[0mprint\u001b[0m\u001b[0;34m(\u001b[0m\u001b[0mos\u001b[0m\u001b[0;34m.\u001b[0m\u001b[0mlistdir\u001b[0m\u001b[0;34m(\u001b[0m\u001b[0;34m'.'\u001b[0m\u001b[0;34m)\u001b[0m\u001b[0;34m)\u001b[0m\u001b[0;34m\u001b[0m\u001b[0;34m\u001b[0m\u001b[0m\n\u001b[0;32m----> 5\u001b[0;31m \u001b[0mos\u001b[0m\u001b[0;34m.\u001b[0m\u001b[0mrename\u001b[0m\u001b[0;34m(\u001b[0m\u001b[0;34m\"b.txt\"\u001b[0m\u001b[0;34m,\u001b[0m\u001b[0;34m\"a.txt\"\u001b[0m\u001b[0;34m)\u001b[0m\u001b[0;34m\u001b[0m\u001b[0;34m\u001b[0m\u001b[0m\n\u001b[0m\u001b[1;32m      6\u001b[0m \u001b[0mprint\u001b[0m\u001b[0;34m(\u001b[0m\u001b[0mos\u001b[0m\u001b[0;34m.\u001b[0m\u001b[0mlistdir\u001b[0m\u001b[0;34m(\u001b[0m\u001b[0;34m'.'\u001b[0m\u001b[0;34m)\u001b[0m\u001b[0;34m)\u001b[0m\u001b[0;34m\u001b[0m\u001b[0;34m\u001b[0m\u001b[0m\n",
            "\u001b[0;31mFileNotFoundError\u001b[0m: [Errno 2] No such file or directory: 'b.txt' -> 'a.txt'"
          ]
        }
      ]
    },
    {
      "cell_type": "code",
      "source": [
        "from google.colab import files\n",
        "import os\n",
        "#file 존재 유무 검사\n",
        "print(os.path.exists('a.txt'))\n",
        "print(os.path.exists('b.txt'))"
      ],
      "metadata": {
        "colab": {
          "base_uri": "https://localhost:8080/"
        },
        "id": "zR0ij8SM-1ck",
        "outputId": "60e4128f-e5fd-4cbb-f290-8077784c25d4"
      },
      "execution_count": null,
      "outputs": [
        {
          "output_type": "stream",
          "name": "stdout",
          "text": [
            "True\n",
            "False\n"
          ]
        }
      ]
    },
    {
      "cell_type": "code",
      "source": [
        "# 구구단 파일로 저장\n",
        "from google.colab import files\n",
        "import sys\n",
        "\n",
        "f = open(\"a.txt\",'w')\n",
        "sys.stdout = f \n",
        "for i in range(2,10):\n",
        "  for j in range(1,10):\n",
        "    print(\"{} x {} = {}\".format(i,j,i*j))\n",
        "  print()\n",
        "f.close()"
      ],
      "metadata": {
        "id": "njV6mlTz_mwz"
      },
      "execution_count": null,
      "outputs": []
    },
    {
      "cell_type": "code",
      "source": [
        "from google.colab import files\n",
        "\n",
        "f = open(\"c.txt\",'w',encoding='utf8')\n",
        "f.write(\"동해물과 백두산이 마르고 닳도록\\n\n",
        "안녕하세요.\\n\n",
        "Hello World!!\")\n",
        "f.close()\n",
        "\n",
        "f.open(\"c.txt\",'r',encoding='utf8')\n",
        "lines = f.readlines()\n",
        "for line in lines:\n",
        "  print(line, end='')\n",
        "f.close()"
      ],
      "metadata": {
        "colab": {
          "base_uri": "https://localhost:8080/",
          "height": 137
        },
        "id": "f7BVf91wDkLS",
        "outputId": "5d05b0c2-fb60-4d06-afaf-fbb5d611f9f4"
      },
      "execution_count": null,
      "outputs": [
        {
          "output_type": "error",
          "ename": "SyntaxError",
          "evalue": "ignored",
          "traceback": [
            "\u001b[0;36m  File \u001b[0;32m\"<ipython-input-4-f5e68eef77ba>\"\u001b[0;36m, line \u001b[0;32m4\u001b[0m\n\u001b[0;31m    f.write(\"동해물과 백두산이 마르고 닳도록\\n\u001b[0m\n\u001b[0m                                ^\u001b[0m\n\u001b[0;31mSyntaxError\u001b[0m\u001b[0;31m:\u001b[0m EOL while scanning string literal\n"
          ]
        }
      ]
    },
    {
      "cell_type": "code",
      "source": [
        "## 비쥬얼 코드 전용\n",
        "f = open(\"C:\\\\41815025\\\\c.txt\",'rt')\n",
        "f.write(\"동해물과 백두산이 마르고 닳도록\\n안녕하세요.\\nHello World!!\")\n",
        "f.close()\n",
        "\n",
        "f.open(\"C:\\\\41815025\\\\c.txt\",'rt')\n",
        "lines = f.readlines()\n",
        "for line in lines:\n",
        "  print(line, end='')\n",
        "f.close()"
      ],
      "metadata": {
        "id": "HUeQ3eeSMhGe"
      },
      "execution_count": null,
      "outputs": []
    },
    {
      "cell_type": "code",
      "source": [
        "## 비쥬얼 코드 전용 구구단 파일 생성\n",
        "import sys\n",
        "\n",
        "f = open(\"C:\\\\41815025\\\\99.txt\",'w')\n",
        "sys.stdout = f \n",
        "for i in range(2,10):\n",
        "  for j in range(1,10):\n",
        "    print(\"{} x {} = {}\".format(i,j,i*j))\n",
        "  print()\n",
        "f.close()"
      ],
      "metadata": {
        "id": "f4EB-C-1OKFY"
      },
      "execution_count": null,
      "outputs": []
    },
    {
      "cell_type": "code",
      "source": [
        "## 비쥬얼 코드 전용\n",
        "y = int(input(\"줄 수 입력하세요: \"))\n",
        "x = int(y/2)+1\n",
        "\n",
        "\n",
        "for i in range(1, 2*x):\n",
        "    if(i <= x):\n",
        "        for j in range(x-i):\n",
        "            print(\"\", end='')\n",
        "\n",
        "\n",
        "        for j in range(2*i-1):\n",
        "          print(\"@\",end='')\n",
        "        print()\n",
        "        \n",
        "    else :\n",
        "      for j in range(i-x):\n",
        "        print(\"\", end='')\n",
        "\n",
        "\n",
        "      for j in range((2*x-i)*2-1):\n",
        "        print(\"@\",end='')\n",
        "      print()\n"
      ],
      "metadata": {
        "id": "K55xN8zHQxwt"
      },
      "execution_count": null,
      "outputs": []
    },
    {
      "cell_type": "code",
      "source": [
        "##비쥬얼  증가\n",
        "def starW(i):\n",
        "  if i==6:\n",
        "    return\n",
        "  print(\"@\"*i)\n",
        "  i = i+1\n",
        "  starW(i)\n",
        "\n",
        "starW(1)"
      ],
      "metadata": {
        "id": "UHwJ8luqSIYM"
      },
      "execution_count": null,
      "outputs": []
    },
    {
      "cell_type": "code",
      "source": [
        "## 비쥬얼 감소\n",
        "x = int(input(\"줄수입력: \"))\n",
        "for i in range(1,x+1):\n",
        "    for j in range(x+1-i):\n",
        "      print(\"@\",end='')\n",
        "    print()"
      ],
      "metadata": {
        "id": "Z8M66YvyUqZz"
      },
      "execution_count": null,
      "outputs": []
    }
  ]
}